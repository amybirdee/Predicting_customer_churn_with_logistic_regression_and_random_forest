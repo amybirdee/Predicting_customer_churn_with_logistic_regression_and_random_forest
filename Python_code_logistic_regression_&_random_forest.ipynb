{
 "cells": [
  {
   "cell_type": "code",
   "execution_count": 104,
   "metadata": {},
   "outputs": [],
   "source": [
    "import pandas as pd\n",
    "import numpy as np\n",
    "import matplotlib.pyplot as plt\n",
    "%matplotlib inline\n",
    "from matplotlib.colors import LinearSegmentedColormap\n",
    "import seaborn as sns\n",
    "from sklearn.preprocessing import MinMaxScaler\n",
    "from sklearn.model_selection import train_test_split\n",
    "from fast_ml.model_development import train_valid_test_split\n",
    "from sklearn.linear_model import LogisticRegression\n",
    "from sklearn.metrics import confusion_matrix\n",
    "from sklearn import metrics\n",
    "from sklearn.metrics import precision_score, recall_score, accuracy_score, f1_score\n",
    "from sklearn.metrics import roc_curve, auc\n",
    "from sklearn.ensemble import RandomForestClassifier\n",
    "from sklearn.model_selection import RandomizedSearchCV\n",
    "import time"
   ]
  },
  {
   "cell_type": "code",
   "execution_count": 36,
   "metadata": {},
   "outputs": [],
   "source": [
    "telco_churn = pd.read_csv('/home/amybirdee/hobby_projects/telco_customer_churn/Telco_Customer_Churn.csv', delimiter = ',')"
   ]
  },
  {
   "cell_type": "code",
   "execution_count": 37,
   "metadata": {},
   "outputs": [
    {
     "data": {
      "text/html": [
       "<div>\n",
       "<style scoped>\n",
       "    .dataframe tbody tr th:only-of-type {\n",
       "        vertical-align: middle;\n",
       "    }\n",
       "\n",
       "    .dataframe tbody tr th {\n",
       "        vertical-align: top;\n",
       "    }\n",
       "\n",
       "    .dataframe thead th {\n",
       "        text-align: right;\n",
       "    }\n",
       "</style>\n",
       "<table border=\"1\" class=\"dataframe\">\n",
       "  <thead>\n",
       "    <tr style=\"text-align: right;\">\n",
       "      <th></th>\n",
       "      <th>customerID</th>\n",
       "      <th>gender</th>\n",
       "      <th>SeniorCitizen</th>\n",
       "      <th>Partner</th>\n",
       "      <th>Dependents</th>\n",
       "      <th>tenure</th>\n",
       "      <th>PhoneService</th>\n",
       "      <th>MultipleLines</th>\n",
       "      <th>InternetService</th>\n",
       "      <th>OnlineSecurity</th>\n",
       "      <th>...</th>\n",
       "      <th>DeviceProtection</th>\n",
       "      <th>TechSupport</th>\n",
       "      <th>StreamingTV</th>\n",
       "      <th>StreamingMovies</th>\n",
       "      <th>Contract</th>\n",
       "      <th>PaperlessBilling</th>\n",
       "      <th>PaymentMethod</th>\n",
       "      <th>MonthlyCharges</th>\n",
       "      <th>TotalCharges</th>\n",
       "      <th>Churn</th>\n",
       "    </tr>\n",
       "  </thead>\n",
       "  <tbody>\n",
       "    <tr>\n",
       "      <th>0</th>\n",
       "      <td>7590-VHVEG</td>\n",
       "      <td>Female</td>\n",
       "      <td>0</td>\n",
       "      <td>Yes</td>\n",
       "      <td>No</td>\n",
       "      <td>1</td>\n",
       "      <td>No</td>\n",
       "      <td>No phone service</td>\n",
       "      <td>DSL</td>\n",
       "      <td>No</td>\n",
       "      <td>...</td>\n",
       "      <td>No</td>\n",
       "      <td>No</td>\n",
       "      <td>No</td>\n",
       "      <td>No</td>\n",
       "      <td>Month-to-month</td>\n",
       "      <td>Yes</td>\n",
       "      <td>Electronic check</td>\n",
       "      <td>29.85</td>\n",
       "      <td>29.85</td>\n",
       "      <td>No</td>\n",
       "    </tr>\n",
       "    <tr>\n",
       "      <th>1</th>\n",
       "      <td>5575-GNVDE</td>\n",
       "      <td>Male</td>\n",
       "      <td>0</td>\n",
       "      <td>No</td>\n",
       "      <td>No</td>\n",
       "      <td>34</td>\n",
       "      <td>Yes</td>\n",
       "      <td>No</td>\n",
       "      <td>DSL</td>\n",
       "      <td>Yes</td>\n",
       "      <td>...</td>\n",
       "      <td>Yes</td>\n",
       "      <td>No</td>\n",
       "      <td>No</td>\n",
       "      <td>No</td>\n",
       "      <td>One year</td>\n",
       "      <td>No</td>\n",
       "      <td>Mailed check</td>\n",
       "      <td>56.95</td>\n",
       "      <td>1889.5</td>\n",
       "      <td>No</td>\n",
       "    </tr>\n",
       "    <tr>\n",
       "      <th>2</th>\n",
       "      <td>3668-QPYBK</td>\n",
       "      <td>Male</td>\n",
       "      <td>0</td>\n",
       "      <td>No</td>\n",
       "      <td>No</td>\n",
       "      <td>2</td>\n",
       "      <td>Yes</td>\n",
       "      <td>No</td>\n",
       "      <td>DSL</td>\n",
       "      <td>Yes</td>\n",
       "      <td>...</td>\n",
       "      <td>No</td>\n",
       "      <td>No</td>\n",
       "      <td>No</td>\n",
       "      <td>No</td>\n",
       "      <td>Month-to-month</td>\n",
       "      <td>Yes</td>\n",
       "      <td>Mailed check</td>\n",
       "      <td>53.85</td>\n",
       "      <td>108.15</td>\n",
       "      <td>Yes</td>\n",
       "    </tr>\n",
       "    <tr>\n",
       "      <th>3</th>\n",
       "      <td>7795-CFOCW</td>\n",
       "      <td>Male</td>\n",
       "      <td>0</td>\n",
       "      <td>No</td>\n",
       "      <td>No</td>\n",
       "      <td>45</td>\n",
       "      <td>No</td>\n",
       "      <td>No phone service</td>\n",
       "      <td>DSL</td>\n",
       "      <td>Yes</td>\n",
       "      <td>...</td>\n",
       "      <td>Yes</td>\n",
       "      <td>Yes</td>\n",
       "      <td>No</td>\n",
       "      <td>No</td>\n",
       "      <td>One year</td>\n",
       "      <td>No</td>\n",
       "      <td>Bank transfer (automatic)</td>\n",
       "      <td>42.30</td>\n",
       "      <td>1840.75</td>\n",
       "      <td>No</td>\n",
       "    </tr>\n",
       "    <tr>\n",
       "      <th>4</th>\n",
       "      <td>9237-HQITU</td>\n",
       "      <td>Female</td>\n",
       "      <td>0</td>\n",
       "      <td>No</td>\n",
       "      <td>No</td>\n",
       "      <td>2</td>\n",
       "      <td>Yes</td>\n",
       "      <td>No</td>\n",
       "      <td>Fiber optic</td>\n",
       "      <td>No</td>\n",
       "      <td>...</td>\n",
       "      <td>No</td>\n",
       "      <td>No</td>\n",
       "      <td>No</td>\n",
       "      <td>No</td>\n",
       "      <td>Month-to-month</td>\n",
       "      <td>Yes</td>\n",
       "      <td>Electronic check</td>\n",
       "      <td>70.70</td>\n",
       "      <td>151.65</td>\n",
       "      <td>Yes</td>\n",
       "    </tr>\n",
       "  </tbody>\n",
       "</table>\n",
       "<p>5 rows × 21 columns</p>\n",
       "</div>"
      ],
      "text/plain": [
       "   customerID  gender  SeniorCitizen Partner Dependents  tenure PhoneService  \\\n",
       "0  7590-VHVEG  Female              0     Yes         No       1           No   \n",
       "1  5575-GNVDE    Male              0      No         No      34          Yes   \n",
       "2  3668-QPYBK    Male              0      No         No       2          Yes   \n",
       "3  7795-CFOCW    Male              0      No         No      45           No   \n",
       "4  9237-HQITU  Female              0      No         No       2          Yes   \n",
       "\n",
       "      MultipleLines InternetService OnlineSecurity  ... DeviceProtection  \\\n",
       "0  No phone service             DSL             No  ...               No   \n",
       "1                No             DSL            Yes  ...              Yes   \n",
       "2                No             DSL            Yes  ...               No   \n",
       "3  No phone service             DSL            Yes  ...              Yes   \n",
       "4                No     Fiber optic             No  ...               No   \n",
       "\n",
       "  TechSupport StreamingTV StreamingMovies        Contract PaperlessBilling  \\\n",
       "0          No          No              No  Month-to-month              Yes   \n",
       "1          No          No              No        One year               No   \n",
       "2          No          No              No  Month-to-month              Yes   \n",
       "3         Yes          No              No        One year               No   \n",
       "4          No          No              No  Month-to-month              Yes   \n",
       "\n",
       "               PaymentMethod MonthlyCharges  TotalCharges Churn  \n",
       "0           Electronic check          29.85         29.85    No  \n",
       "1               Mailed check          56.95        1889.5    No  \n",
       "2               Mailed check          53.85        108.15   Yes  \n",
       "3  Bank transfer (automatic)          42.30       1840.75    No  \n",
       "4           Electronic check          70.70        151.65   Yes  \n",
       "\n",
       "[5 rows x 21 columns]"
      ]
     },
     "execution_count": 37,
     "metadata": {},
     "output_type": "execute_result"
    }
   ],
   "source": [
    "telco_churn.head()"
   ]
  },
  {
   "cell_type": "code",
   "execution_count": 38,
   "metadata": {},
   "outputs": [
    {
     "name": "stdout",
     "output_type": "stream",
     "text": [
      "<class 'pandas.core.frame.DataFrame'>\n",
      "RangeIndex: 7043 entries, 0 to 7042\n",
      "Data columns (total 21 columns):\n",
      " #   Column            Non-Null Count  Dtype  \n",
      "---  ------            --------------  -----  \n",
      " 0   customerID        7043 non-null   object \n",
      " 1   gender            7043 non-null   object \n",
      " 2   SeniorCitizen     7043 non-null   int64  \n",
      " 3   Partner           7043 non-null   object \n",
      " 4   Dependents        7043 non-null   object \n",
      " 5   tenure            7043 non-null   int64  \n",
      " 6   PhoneService      7043 non-null   object \n",
      " 7   MultipleLines     7043 non-null   object \n",
      " 8   InternetService   7043 non-null   object \n",
      " 9   OnlineSecurity    7043 non-null   object \n",
      " 10  OnlineBackup      7043 non-null   object \n",
      " 11  DeviceProtection  7043 non-null   object \n",
      " 12  TechSupport       7043 non-null   object \n",
      " 13  StreamingTV       7043 non-null   object \n",
      " 14  StreamingMovies   7043 non-null   object \n",
      " 15  Contract          7043 non-null   object \n",
      " 16  PaperlessBilling  7043 non-null   object \n",
      " 17  PaymentMethod     7043 non-null   object \n",
      " 18  MonthlyCharges    7043 non-null   float64\n",
      " 19  TotalCharges      7043 non-null   object \n",
      " 20  Churn             7043 non-null   object \n",
      "dtypes: float64(1), int64(2), object(18)\n",
      "memory usage: 1.1+ MB\n"
     ]
    }
   ],
   "source": [
    "telco_churn.info()"
   ]
  },
  {
   "cell_type": "code",
   "execution_count": 39,
   "metadata": {},
   "outputs": [],
   "source": [
    "#total charges is an object datatype but should be float - converting to float, errors = 'coerce' changes non-numeric values\n",
    "#to NaN\n",
    "telco_churn['TotalCharges'] = pd.to_numeric(telco_churn['TotalCharges'], errors = 'coerce')"
   ]
  },
  {
   "cell_type": "code",
   "execution_count": 40,
   "metadata": {},
   "outputs": [],
   "source": [
    "#removing any NaNs from total charges column\n",
    "telco_churn['TotalCharges'] = telco_churn['TotalCharges'].replace(np.nan, 0)"
   ]
  },
  {
   "cell_type": "code",
   "execution_count": 41,
   "metadata": {},
   "outputs": [
    {
     "name": "stdout",
     "output_type": "stream",
     "text": [
      "<class 'pandas.core.frame.DataFrame'>\n",
      "RangeIndex: 7043 entries, 0 to 7042\n",
      "Data columns (total 21 columns):\n",
      " #   Column            Non-Null Count  Dtype  \n",
      "---  ------            --------------  -----  \n",
      " 0   customerID        7043 non-null   object \n",
      " 1   gender            7043 non-null   object \n",
      " 2   SeniorCitizen     7043 non-null   int64  \n",
      " 3   Partner           7043 non-null   object \n",
      " 4   Dependents        7043 non-null   object \n",
      " 5   tenure            7043 non-null   int64  \n",
      " 6   PhoneService      7043 non-null   object \n",
      " 7   MultipleLines     7043 non-null   object \n",
      " 8   InternetService   7043 non-null   object \n",
      " 9   OnlineSecurity    7043 non-null   object \n",
      " 10  OnlineBackup      7043 non-null   object \n",
      " 11  DeviceProtection  7043 non-null   object \n",
      " 12  TechSupport       7043 non-null   object \n",
      " 13  StreamingTV       7043 non-null   object \n",
      " 14  StreamingMovies   7043 non-null   object \n",
      " 15  Contract          7043 non-null   object \n",
      " 16  PaperlessBilling  7043 non-null   object \n",
      " 17  PaymentMethod     7043 non-null   object \n",
      " 18  MonthlyCharges    7043 non-null   float64\n",
      " 19  TotalCharges      7043 non-null   float64\n",
      " 20  Churn             7043 non-null   object \n",
      "dtypes: float64(2), int64(2), object(17)\n",
      "memory usage: 1.1+ MB\n"
     ]
    }
   ],
   "source": [
    "telco_churn.info()"
   ]
  },
  {
   "cell_type": "code",
   "execution_count": 42,
   "metadata": {},
   "outputs": [
    {
     "data": {
      "text/html": [
       "<div>\n",
       "<style scoped>\n",
       "    .dataframe tbody tr th:only-of-type {\n",
       "        vertical-align: middle;\n",
       "    }\n",
       "\n",
       "    .dataframe tbody tr th {\n",
       "        vertical-align: top;\n",
       "    }\n",
       "\n",
       "    .dataframe thead th {\n",
       "        text-align: right;\n",
       "    }\n",
       "</style>\n",
       "<table border=\"1\" class=\"dataframe\">\n",
       "  <thead>\n",
       "    <tr style=\"text-align: right;\">\n",
       "      <th></th>\n",
       "      <th>gender</th>\n",
       "      <th>SeniorCitizen</th>\n",
       "      <th>Partner</th>\n",
       "      <th>Dependents</th>\n",
       "      <th>tenure</th>\n",
       "      <th>PhoneService</th>\n",
       "      <th>MultipleLines</th>\n",
       "      <th>InternetService</th>\n",
       "      <th>OnlineSecurity</th>\n",
       "      <th>OnlineBackup</th>\n",
       "      <th>DeviceProtection</th>\n",
       "      <th>TechSupport</th>\n",
       "      <th>StreamingTV</th>\n",
       "      <th>StreamingMovies</th>\n",
       "      <th>Contract</th>\n",
       "      <th>PaperlessBilling</th>\n",
       "      <th>PaymentMethod</th>\n",
       "      <th>MonthlyCharges</th>\n",
       "      <th>TotalCharges</th>\n",
       "      <th>Churn</th>\n",
       "    </tr>\n",
       "  </thead>\n",
       "  <tbody>\n",
       "    <tr>\n",
       "      <th>0</th>\n",
       "      <td>Female</td>\n",
       "      <td>0</td>\n",
       "      <td>Yes</td>\n",
       "      <td>No</td>\n",
       "      <td>1</td>\n",
       "      <td>No</td>\n",
       "      <td>No phone service</td>\n",
       "      <td>DSL</td>\n",
       "      <td>No</td>\n",
       "      <td>Yes</td>\n",
       "      <td>No</td>\n",
       "      <td>No</td>\n",
       "      <td>No</td>\n",
       "      <td>No</td>\n",
       "      <td>Month-to-month</td>\n",
       "      <td>Yes</td>\n",
       "      <td>Electronic check</td>\n",
       "      <td>29.85</td>\n",
       "      <td>29.85</td>\n",
       "      <td>No</td>\n",
       "    </tr>\n",
       "    <tr>\n",
       "      <th>1</th>\n",
       "      <td>Male</td>\n",
       "      <td>0</td>\n",
       "      <td>No</td>\n",
       "      <td>No</td>\n",
       "      <td>34</td>\n",
       "      <td>Yes</td>\n",
       "      <td>No</td>\n",
       "      <td>DSL</td>\n",
       "      <td>Yes</td>\n",
       "      <td>No</td>\n",
       "      <td>Yes</td>\n",
       "      <td>No</td>\n",
       "      <td>No</td>\n",
       "      <td>No</td>\n",
       "      <td>One year</td>\n",
       "      <td>No</td>\n",
       "      <td>Mailed check</td>\n",
       "      <td>56.95</td>\n",
       "      <td>1889.50</td>\n",
       "      <td>No</td>\n",
       "    </tr>\n",
       "    <tr>\n",
       "      <th>2</th>\n",
       "      <td>Male</td>\n",
       "      <td>0</td>\n",
       "      <td>No</td>\n",
       "      <td>No</td>\n",
       "      <td>2</td>\n",
       "      <td>Yes</td>\n",
       "      <td>No</td>\n",
       "      <td>DSL</td>\n",
       "      <td>Yes</td>\n",
       "      <td>Yes</td>\n",
       "      <td>No</td>\n",
       "      <td>No</td>\n",
       "      <td>No</td>\n",
       "      <td>No</td>\n",
       "      <td>Month-to-month</td>\n",
       "      <td>Yes</td>\n",
       "      <td>Mailed check</td>\n",
       "      <td>53.85</td>\n",
       "      <td>108.15</td>\n",
       "      <td>Yes</td>\n",
       "    </tr>\n",
       "    <tr>\n",
       "      <th>3</th>\n",
       "      <td>Male</td>\n",
       "      <td>0</td>\n",
       "      <td>No</td>\n",
       "      <td>No</td>\n",
       "      <td>45</td>\n",
       "      <td>No</td>\n",
       "      <td>No phone service</td>\n",
       "      <td>DSL</td>\n",
       "      <td>Yes</td>\n",
       "      <td>No</td>\n",
       "      <td>Yes</td>\n",
       "      <td>Yes</td>\n",
       "      <td>No</td>\n",
       "      <td>No</td>\n",
       "      <td>One year</td>\n",
       "      <td>No</td>\n",
       "      <td>Bank transfer (automatic)</td>\n",
       "      <td>42.30</td>\n",
       "      <td>1840.75</td>\n",
       "      <td>No</td>\n",
       "    </tr>\n",
       "    <tr>\n",
       "      <th>4</th>\n",
       "      <td>Female</td>\n",
       "      <td>0</td>\n",
       "      <td>No</td>\n",
       "      <td>No</td>\n",
       "      <td>2</td>\n",
       "      <td>Yes</td>\n",
       "      <td>No</td>\n",
       "      <td>Fiber optic</td>\n",
       "      <td>No</td>\n",
       "      <td>No</td>\n",
       "      <td>No</td>\n",
       "      <td>No</td>\n",
       "      <td>No</td>\n",
       "      <td>No</td>\n",
       "      <td>Month-to-month</td>\n",
       "      <td>Yes</td>\n",
       "      <td>Electronic check</td>\n",
       "      <td>70.70</td>\n",
       "      <td>151.65</td>\n",
       "      <td>Yes</td>\n",
       "    </tr>\n",
       "  </tbody>\n",
       "</table>\n",
       "</div>"
      ],
      "text/plain": [
       "   gender  SeniorCitizen Partner Dependents  tenure PhoneService  \\\n",
       "0  Female              0     Yes         No       1           No   \n",
       "1    Male              0      No         No      34          Yes   \n",
       "2    Male              0      No         No       2          Yes   \n",
       "3    Male              0      No         No      45           No   \n",
       "4  Female              0      No         No       2          Yes   \n",
       "\n",
       "      MultipleLines InternetService OnlineSecurity OnlineBackup  \\\n",
       "0  No phone service             DSL             No          Yes   \n",
       "1                No             DSL            Yes           No   \n",
       "2                No             DSL            Yes          Yes   \n",
       "3  No phone service             DSL            Yes           No   \n",
       "4                No     Fiber optic             No           No   \n",
       "\n",
       "  DeviceProtection TechSupport StreamingTV StreamingMovies        Contract  \\\n",
       "0               No          No          No              No  Month-to-month   \n",
       "1              Yes          No          No              No        One year   \n",
       "2               No          No          No              No  Month-to-month   \n",
       "3              Yes         Yes          No              No        One year   \n",
       "4               No          No          No              No  Month-to-month   \n",
       "\n",
       "  PaperlessBilling              PaymentMethod  MonthlyCharges  TotalCharges  \\\n",
       "0              Yes           Electronic check           29.85         29.85   \n",
       "1               No               Mailed check           56.95       1889.50   \n",
       "2              Yes               Mailed check           53.85        108.15   \n",
       "3               No  Bank transfer (automatic)           42.30       1840.75   \n",
       "4              Yes           Electronic check           70.70        151.65   \n",
       "\n",
       "  Churn  \n",
       "0    No  \n",
       "1    No  \n",
       "2   Yes  \n",
       "3    No  \n",
       "4   Yes  "
      ]
     },
     "execution_count": 42,
     "metadata": {},
     "output_type": "execute_result"
    }
   ],
   "source": [
    "#don't need the customer id for the model so dropping this\n",
    "telco_churn = telco_churn.drop('customerID', axis = 1)\n",
    "telco_churn.head()"
   ]
  },
  {
   "cell_type": "code",
   "execution_count": 43,
   "metadata": {},
   "outputs": [
    {
     "data": {
      "text/html": [
       "<div>\n",
       "<style scoped>\n",
       "    .dataframe tbody tr th:only-of-type {\n",
       "        vertical-align: middle;\n",
       "    }\n",
       "\n",
       "    .dataframe tbody tr th {\n",
       "        vertical-align: top;\n",
       "    }\n",
       "\n",
       "    .dataframe thead th {\n",
       "        text-align: right;\n",
       "    }\n",
       "</style>\n",
       "<table border=\"1\" class=\"dataframe\">\n",
       "  <thead>\n",
       "    <tr style=\"text-align: right;\">\n",
       "      <th></th>\n",
       "      <th>gender</th>\n",
       "      <th>SeniorCitizen</th>\n",
       "      <th>Partner</th>\n",
       "      <th>Dependents</th>\n",
       "      <th>tenure</th>\n",
       "      <th>PhoneService</th>\n",
       "      <th>MultipleLines</th>\n",
       "      <th>InternetService</th>\n",
       "      <th>OnlineSecurity</th>\n",
       "      <th>OnlineBackup</th>\n",
       "      <th>DeviceProtection</th>\n",
       "      <th>TechSupport</th>\n",
       "      <th>StreamingTV</th>\n",
       "      <th>StreamingMovies</th>\n",
       "      <th>Contract</th>\n",
       "      <th>PaperlessBilling</th>\n",
       "      <th>PaymentMethod</th>\n",
       "      <th>MonthlyCharges</th>\n",
       "      <th>TotalCharges</th>\n",
       "      <th>Churn</th>\n",
       "    </tr>\n",
       "  </thead>\n",
       "  <tbody>\n",
       "    <tr>\n",
       "      <th>0</th>\n",
       "      <td>Female</td>\n",
       "      <td>0</td>\n",
       "      <td>Yes</td>\n",
       "      <td>No</td>\n",
       "      <td>1</td>\n",
       "      <td>No</td>\n",
       "      <td>No phone service</td>\n",
       "      <td>DSL</td>\n",
       "      <td>No</td>\n",
       "      <td>Yes</td>\n",
       "      <td>No</td>\n",
       "      <td>No</td>\n",
       "      <td>No</td>\n",
       "      <td>No</td>\n",
       "      <td>Month-to-month</td>\n",
       "      <td>Yes</td>\n",
       "      <td>Electronic check</td>\n",
       "      <td>29.85</td>\n",
       "      <td>29.85</td>\n",
       "      <td>0</td>\n",
       "    </tr>\n",
       "    <tr>\n",
       "      <th>1</th>\n",
       "      <td>Male</td>\n",
       "      <td>0</td>\n",
       "      <td>No</td>\n",
       "      <td>No</td>\n",
       "      <td>34</td>\n",
       "      <td>Yes</td>\n",
       "      <td>No</td>\n",
       "      <td>DSL</td>\n",
       "      <td>Yes</td>\n",
       "      <td>No</td>\n",
       "      <td>Yes</td>\n",
       "      <td>No</td>\n",
       "      <td>No</td>\n",
       "      <td>No</td>\n",
       "      <td>One year</td>\n",
       "      <td>No</td>\n",
       "      <td>Mailed check</td>\n",
       "      <td>56.95</td>\n",
       "      <td>1889.50</td>\n",
       "      <td>0</td>\n",
       "    </tr>\n",
       "    <tr>\n",
       "      <th>2</th>\n",
       "      <td>Male</td>\n",
       "      <td>0</td>\n",
       "      <td>No</td>\n",
       "      <td>No</td>\n",
       "      <td>2</td>\n",
       "      <td>Yes</td>\n",
       "      <td>No</td>\n",
       "      <td>DSL</td>\n",
       "      <td>Yes</td>\n",
       "      <td>Yes</td>\n",
       "      <td>No</td>\n",
       "      <td>No</td>\n",
       "      <td>No</td>\n",
       "      <td>No</td>\n",
       "      <td>Month-to-month</td>\n",
       "      <td>Yes</td>\n",
       "      <td>Mailed check</td>\n",
       "      <td>53.85</td>\n",
       "      <td>108.15</td>\n",
       "      <td>1</td>\n",
       "    </tr>\n",
       "    <tr>\n",
       "      <th>3</th>\n",
       "      <td>Male</td>\n",
       "      <td>0</td>\n",
       "      <td>No</td>\n",
       "      <td>No</td>\n",
       "      <td>45</td>\n",
       "      <td>No</td>\n",
       "      <td>No phone service</td>\n",
       "      <td>DSL</td>\n",
       "      <td>Yes</td>\n",
       "      <td>No</td>\n",
       "      <td>Yes</td>\n",
       "      <td>Yes</td>\n",
       "      <td>No</td>\n",
       "      <td>No</td>\n",
       "      <td>One year</td>\n",
       "      <td>No</td>\n",
       "      <td>Bank transfer (automatic)</td>\n",
       "      <td>42.30</td>\n",
       "      <td>1840.75</td>\n",
       "      <td>0</td>\n",
       "    </tr>\n",
       "    <tr>\n",
       "      <th>4</th>\n",
       "      <td>Female</td>\n",
       "      <td>0</td>\n",
       "      <td>No</td>\n",
       "      <td>No</td>\n",
       "      <td>2</td>\n",
       "      <td>Yes</td>\n",
       "      <td>No</td>\n",
       "      <td>Fiber optic</td>\n",
       "      <td>No</td>\n",
       "      <td>No</td>\n",
       "      <td>No</td>\n",
       "      <td>No</td>\n",
       "      <td>No</td>\n",
       "      <td>No</td>\n",
       "      <td>Month-to-month</td>\n",
       "      <td>Yes</td>\n",
       "      <td>Electronic check</td>\n",
       "      <td>70.70</td>\n",
       "      <td>151.65</td>\n",
       "      <td>1</td>\n",
       "    </tr>\n",
       "  </tbody>\n",
       "</table>\n",
       "</div>"
      ],
      "text/plain": [
       "   gender  SeniorCitizen Partner Dependents  tenure PhoneService  \\\n",
       "0  Female              0     Yes         No       1           No   \n",
       "1    Male              0      No         No      34          Yes   \n",
       "2    Male              0      No         No       2          Yes   \n",
       "3    Male              0      No         No      45           No   \n",
       "4  Female              0      No         No       2          Yes   \n",
       "\n",
       "      MultipleLines InternetService OnlineSecurity OnlineBackup  \\\n",
       "0  No phone service             DSL             No          Yes   \n",
       "1                No             DSL            Yes           No   \n",
       "2                No             DSL            Yes          Yes   \n",
       "3  No phone service             DSL            Yes           No   \n",
       "4                No     Fiber optic             No           No   \n",
       "\n",
       "  DeviceProtection TechSupport StreamingTV StreamingMovies        Contract  \\\n",
       "0               No          No          No              No  Month-to-month   \n",
       "1              Yes          No          No              No        One year   \n",
       "2               No          No          No              No  Month-to-month   \n",
       "3              Yes         Yes          No              No        One year   \n",
       "4               No          No          No              No  Month-to-month   \n",
       "\n",
       "  PaperlessBilling              PaymentMethod  MonthlyCharges  TotalCharges  \\\n",
       "0              Yes           Electronic check           29.85         29.85   \n",
       "1               No               Mailed check           56.95       1889.50   \n",
       "2              Yes               Mailed check           53.85        108.15   \n",
       "3               No  Bank transfer (automatic)           42.30       1840.75   \n",
       "4              Yes           Electronic check           70.70        151.65   \n",
       "\n",
       "   Churn  \n",
       "0      0  \n",
       "1      0  \n",
       "2      1  \n",
       "3      0  \n",
       "4      1  "
      ]
     },
     "execution_count": 43,
     "metadata": {},
     "output_type": "execute_result"
    }
   ],
   "source": [
    "#target variable is churn - currently this column shows yes/no but it needs to be a binary column to changing to 0/1\n",
    "telco_churn['Churn'] = telco_churn['Churn'].replace({'Yes': 1, 'No': 0})\n",
    "telco_churn.head()"
   ]
  },
  {
   "cell_type": "code",
   "execution_count": 44,
   "metadata": {},
   "outputs": [
    {
     "name": "stdout",
     "output_type": "stream",
     "text": [
      "0    5174\n",
      "1    1869\n",
      "Name: Churn, dtype: int64\n"
     ]
    }
   ],
   "source": [
    "#counting how many 0s and 1s we have in churn column - 5174 customers didn't churn and 1869 did\n",
    "print(telco_churn.Churn.value_counts())"
   ]
  },
  {
   "cell_type": "code",
   "execution_count": 45,
   "metadata": {},
   "outputs": [
    {
     "data": {
      "text/html": [
       "<div>\n",
       "<style scoped>\n",
       "    .dataframe tbody tr th:only-of-type {\n",
       "        vertical-align: middle;\n",
       "    }\n",
       "\n",
       "    .dataframe tbody tr th {\n",
       "        vertical-align: top;\n",
       "    }\n",
       "\n",
       "    .dataframe thead th {\n",
       "        text-align: right;\n",
       "    }\n",
       "</style>\n",
       "<table border=\"1\" class=\"dataframe\">\n",
       "  <thead>\n",
       "    <tr style=\"text-align: right;\">\n",
       "      <th></th>\n",
       "      <th>SeniorCitizen</th>\n",
       "      <th>tenure</th>\n",
       "      <th>MonthlyCharges</th>\n",
       "      <th>TotalCharges</th>\n",
       "      <th>Churn</th>\n",
       "      <th>gender_Female</th>\n",
       "      <th>gender_Male</th>\n",
       "      <th>Partner_No</th>\n",
       "      <th>Partner_Yes</th>\n",
       "      <th>Dependents_No</th>\n",
       "      <th>...</th>\n",
       "      <th>StreamingMovies_Yes</th>\n",
       "      <th>Contract_Month-to-month</th>\n",
       "      <th>Contract_One year</th>\n",
       "      <th>Contract_Two year</th>\n",
       "      <th>PaperlessBilling_No</th>\n",
       "      <th>PaperlessBilling_Yes</th>\n",
       "      <th>PaymentMethod_Bank transfer (automatic)</th>\n",
       "      <th>PaymentMethod_Credit card (automatic)</th>\n",
       "      <th>PaymentMethod_Electronic check</th>\n",
       "      <th>PaymentMethod_Mailed check</th>\n",
       "    </tr>\n",
       "  </thead>\n",
       "  <tbody>\n",
       "    <tr>\n",
       "      <th>0</th>\n",
       "      <td>0</td>\n",
       "      <td>1</td>\n",
       "      <td>29.85</td>\n",
       "      <td>29.85</td>\n",
       "      <td>0</td>\n",
       "      <td>1</td>\n",
       "      <td>0</td>\n",
       "      <td>0</td>\n",
       "      <td>1</td>\n",
       "      <td>1</td>\n",
       "      <td>...</td>\n",
       "      <td>0</td>\n",
       "      <td>1</td>\n",
       "      <td>0</td>\n",
       "      <td>0</td>\n",
       "      <td>0</td>\n",
       "      <td>1</td>\n",
       "      <td>0</td>\n",
       "      <td>0</td>\n",
       "      <td>1</td>\n",
       "      <td>0</td>\n",
       "    </tr>\n",
       "    <tr>\n",
       "      <th>1</th>\n",
       "      <td>0</td>\n",
       "      <td>34</td>\n",
       "      <td>56.95</td>\n",
       "      <td>1889.50</td>\n",
       "      <td>0</td>\n",
       "      <td>0</td>\n",
       "      <td>1</td>\n",
       "      <td>1</td>\n",
       "      <td>0</td>\n",
       "      <td>1</td>\n",
       "      <td>...</td>\n",
       "      <td>0</td>\n",
       "      <td>0</td>\n",
       "      <td>1</td>\n",
       "      <td>0</td>\n",
       "      <td>1</td>\n",
       "      <td>0</td>\n",
       "      <td>0</td>\n",
       "      <td>0</td>\n",
       "      <td>0</td>\n",
       "      <td>1</td>\n",
       "    </tr>\n",
       "    <tr>\n",
       "      <th>2</th>\n",
       "      <td>0</td>\n",
       "      <td>2</td>\n",
       "      <td>53.85</td>\n",
       "      <td>108.15</td>\n",
       "      <td>1</td>\n",
       "      <td>0</td>\n",
       "      <td>1</td>\n",
       "      <td>1</td>\n",
       "      <td>0</td>\n",
       "      <td>1</td>\n",
       "      <td>...</td>\n",
       "      <td>0</td>\n",
       "      <td>1</td>\n",
       "      <td>0</td>\n",
       "      <td>0</td>\n",
       "      <td>0</td>\n",
       "      <td>1</td>\n",
       "      <td>0</td>\n",
       "      <td>0</td>\n",
       "      <td>0</td>\n",
       "      <td>1</td>\n",
       "    </tr>\n",
       "    <tr>\n",
       "      <th>3</th>\n",
       "      <td>0</td>\n",
       "      <td>45</td>\n",
       "      <td>42.30</td>\n",
       "      <td>1840.75</td>\n",
       "      <td>0</td>\n",
       "      <td>0</td>\n",
       "      <td>1</td>\n",
       "      <td>1</td>\n",
       "      <td>0</td>\n",
       "      <td>1</td>\n",
       "      <td>...</td>\n",
       "      <td>0</td>\n",
       "      <td>0</td>\n",
       "      <td>1</td>\n",
       "      <td>0</td>\n",
       "      <td>1</td>\n",
       "      <td>0</td>\n",
       "      <td>1</td>\n",
       "      <td>0</td>\n",
       "      <td>0</td>\n",
       "      <td>0</td>\n",
       "    </tr>\n",
       "    <tr>\n",
       "      <th>4</th>\n",
       "      <td>0</td>\n",
       "      <td>2</td>\n",
       "      <td>70.70</td>\n",
       "      <td>151.65</td>\n",
       "      <td>1</td>\n",
       "      <td>1</td>\n",
       "      <td>0</td>\n",
       "      <td>1</td>\n",
       "      <td>0</td>\n",
       "      <td>1</td>\n",
       "      <td>...</td>\n",
       "      <td>0</td>\n",
       "      <td>1</td>\n",
       "      <td>0</td>\n",
       "      <td>0</td>\n",
       "      <td>0</td>\n",
       "      <td>1</td>\n",
       "      <td>0</td>\n",
       "      <td>0</td>\n",
       "      <td>1</td>\n",
       "      <td>0</td>\n",
       "    </tr>\n",
       "  </tbody>\n",
       "</table>\n",
       "<p>5 rows × 46 columns</p>\n",
       "</div>"
      ],
      "text/plain": [
       "   SeniorCitizen  tenure  MonthlyCharges  TotalCharges  Churn  gender_Female  \\\n",
       "0              0       1           29.85         29.85      0              1   \n",
       "1              0      34           56.95       1889.50      0              0   \n",
       "2              0       2           53.85        108.15      1              0   \n",
       "3              0      45           42.30       1840.75      0              0   \n",
       "4              0       2           70.70        151.65      1              1   \n",
       "\n",
       "   gender_Male  Partner_No  Partner_Yes  Dependents_No  ...  \\\n",
       "0            0           0            1              1  ...   \n",
       "1            1           1            0              1  ...   \n",
       "2            1           1            0              1  ...   \n",
       "3            1           1            0              1  ...   \n",
       "4            0           1            0              1  ...   \n",
       "\n",
       "   StreamingMovies_Yes  Contract_Month-to-month  Contract_One year  \\\n",
       "0                    0                        1                  0   \n",
       "1                    0                        0                  1   \n",
       "2                    0                        1                  0   \n",
       "3                    0                        0                  1   \n",
       "4                    0                        1                  0   \n",
       "\n",
       "   Contract_Two year  PaperlessBilling_No  PaperlessBilling_Yes  \\\n",
       "0                  0                    0                     1   \n",
       "1                  0                    1                     0   \n",
       "2                  0                    0                     1   \n",
       "3                  0                    1                     0   \n",
       "4                  0                    0                     1   \n",
       "\n",
       "   PaymentMethod_Bank transfer (automatic)  \\\n",
       "0                                        0   \n",
       "1                                        0   \n",
       "2                                        0   \n",
       "3                                        1   \n",
       "4                                        0   \n",
       "\n",
       "   PaymentMethod_Credit card (automatic)  PaymentMethod_Electronic check  \\\n",
       "0                                      0                               1   \n",
       "1                                      0                               0   \n",
       "2                                      0                               0   \n",
       "3                                      0                               0   \n",
       "4                                      0                               1   \n",
       "\n",
       "   PaymentMethod_Mailed check  \n",
       "0                           0  \n",
       "1                           1  \n",
       "2                           1  \n",
       "3                           0  \n",
       "4                           0  \n",
       "\n",
       "[5 rows x 46 columns]"
      ]
     },
     "execution_count": 45,
     "metadata": {},
     "output_type": "execute_result"
    }
   ],
   "source": [
    "#creating dummy values for all categorical variables to use in model\n",
    "telco_dummy = pd.get_dummies(telco_churn)\n",
    "telco_dummy.head()"
   ]
  },
  {
   "cell_type": "code",
   "execution_count": 46,
   "metadata": {},
   "outputs": [
    {
     "data": {
      "text/plain": [
       "SeniorCitizen                                int64\n",
       "tenure                                       int64\n",
       "MonthlyCharges                             float64\n",
       "TotalCharges                               float64\n",
       "Churn                                        int64\n",
       "gender_Female                                uint8\n",
       "gender_Male                                  uint8\n",
       "Partner_No                                   uint8\n",
       "Partner_Yes                                  uint8\n",
       "Dependents_No                                uint8\n",
       "Dependents_Yes                               uint8\n",
       "PhoneService_No                              uint8\n",
       "PhoneService_Yes                             uint8\n",
       "MultipleLines_No                             uint8\n",
       "MultipleLines_No phone service               uint8\n",
       "MultipleLines_Yes                            uint8\n",
       "InternetService_DSL                          uint8\n",
       "InternetService_Fiber optic                  uint8\n",
       "InternetService_No                           uint8\n",
       "OnlineSecurity_No                            uint8\n",
       "OnlineSecurity_No internet service           uint8\n",
       "OnlineSecurity_Yes                           uint8\n",
       "OnlineBackup_No                              uint8\n",
       "OnlineBackup_No internet service             uint8\n",
       "OnlineBackup_Yes                             uint8\n",
       "DeviceProtection_No                          uint8\n",
       "DeviceProtection_No internet service         uint8\n",
       "DeviceProtection_Yes                         uint8\n",
       "TechSupport_No                               uint8\n",
       "TechSupport_No internet service              uint8\n",
       "TechSupport_Yes                              uint8\n",
       "StreamingTV_No                               uint8\n",
       "StreamingTV_No internet service              uint8\n",
       "StreamingTV_Yes                              uint8\n",
       "StreamingMovies_No                           uint8\n",
       "StreamingMovies_No internet service          uint8\n",
       "StreamingMovies_Yes                          uint8\n",
       "Contract_Month-to-month                      uint8\n",
       "Contract_One year                            uint8\n",
       "Contract_Two year                            uint8\n",
       "PaperlessBilling_No                          uint8\n",
       "PaperlessBilling_Yes                         uint8\n",
       "PaymentMethod_Bank transfer (automatic)      uint8\n",
       "PaymentMethod_Credit card (automatic)        uint8\n",
       "PaymentMethod_Electronic check               uint8\n",
       "PaymentMethod_Mailed check                   uint8\n",
       "dtype: object"
      ]
     },
     "execution_count": 46,
     "metadata": {},
     "output_type": "execute_result"
    }
   ],
   "source": [
    "telco_dummy.dtypes"
   ]
  },
  {
   "cell_type": "code",
   "execution_count": 47,
   "metadata": {},
   "outputs": [
    {
     "data": {
      "image/png": "[encoded data removed]",
      "text/plain": [
       "<Figure size 1080x576 with 1 Axes>"
      ]
     },
     "metadata": {
      "needs_background": "light"
     },
     "output_type": "display_data"
    }
   ],
   "source": [
    "#plot correlations between target feature (churn) and all other variables\n",
    "fig = plt.figure(figsize = (15,8))\n",
    "ax = plt.subplot()\n",
    "telco_dummy.corr()['Churn'].sort_values(ascending = False).plot(kind = 'bar', color = 'red')\n",
    "plt.title('Feature correlation with churn', fontsize = 12)\n",
    "ax.spines['top'].set_visible(False)\n",
    "ax.spines['right'].set_visible(False)\n",
    "plt.xticks(fontsize = 10)\n",
    "plt.yticks(fontsize = 10)\n",
    "plt.tight_layout()\n",
    "plt.savefig('churn_correlation')"
   ]
  },
  {
   "cell_type": "code",
   "execution_count": 48,
   "metadata": {},
   "outputs": [
    {
     "data": {
      "image/png": "[encoded data removed]",
      "text/plain": [
       "<Figure size 2160x1080 with 2 Axes>"
      ]
     },
     "metadata": {
      "needs_background": "light"
     },
     "output_type": "display_data"
    }
   ],
   "source": [
    "#plotting correlations on a heatmap\n",
    "fig, ax = plt.subplots(figsize = (30,15))\n",
    "sns.heatmap(telco_dummy.corr(), cmap = 'Greys')\n",
    "plt.tight_layout()\n",
    "plt.savefig('heatmap')"
   ]
  },
  {
   "cell_type": "code",
   "execution_count": 49,
   "metadata": {},
   "outputs": [
    {
     "data": {
      "text/html": [
       "<div>\n",
       "<style scoped>\n",
       "    .dataframe tbody tr th:only-of-type {\n",
       "        vertical-align: middle;\n",
       "    }\n",
       "\n",
       "    .dataframe tbody tr th {\n",
       "        vertical-align: top;\n",
       "    }\n",
       "\n",
       "    .dataframe thead th {\n",
       "        text-align: right;\n",
       "    }\n",
       "</style>\n",
       "<table border=\"1\" class=\"dataframe\">\n",
       "  <thead>\n",
       "    <tr style=\"text-align: right;\">\n",
       "      <th></th>\n",
       "      <th>SeniorCitizen</th>\n",
       "      <th>tenure</th>\n",
       "      <th>MonthlyCharges</th>\n",
       "      <th>TotalCharges</th>\n",
       "      <th>Churn</th>\n",
       "      <th>gender_Female</th>\n",
       "      <th>gender_Male</th>\n",
       "      <th>Partner_No</th>\n",
       "      <th>Partner_Yes</th>\n",
       "      <th>Dependents_No</th>\n",
       "      <th>...</th>\n",
       "      <th>StreamingMovies_Yes</th>\n",
       "      <th>Contract_Month-to-month</th>\n",
       "      <th>Contract_One year</th>\n",
       "      <th>Contract_Two year</th>\n",
       "      <th>PaperlessBilling_No</th>\n",
       "      <th>PaperlessBilling_Yes</th>\n",
       "      <th>PaymentMethod_Bank transfer (automatic)</th>\n",
       "      <th>PaymentMethod_Credit card (automatic)</th>\n",
       "      <th>PaymentMethod_Electronic check</th>\n",
       "      <th>PaymentMethod_Mailed check</th>\n",
       "    </tr>\n",
       "  </thead>\n",
       "  <tbody>\n",
       "    <tr>\n",
       "      <th>0</th>\n",
       "      <td>0.0</td>\n",
       "      <td>0.013889</td>\n",
       "      <td>0.115423</td>\n",
       "      <td>0.003437</td>\n",
       "      <td>0.0</td>\n",
       "      <td>1.0</td>\n",
       "      <td>0.0</td>\n",
       "      <td>0.0</td>\n",
       "      <td>1.0</td>\n",
       "      <td>1.0</td>\n",
       "      <td>...</td>\n",
       "      <td>0.0</td>\n",
       "      <td>1.0</td>\n",
       "      <td>0.0</td>\n",
       "      <td>0.0</td>\n",
       "      <td>0.0</td>\n",
       "      <td>1.0</td>\n",
       "      <td>0.0</td>\n",
       "      <td>0.0</td>\n",
       "      <td>1.0</td>\n",
       "      <td>0.0</td>\n",
       "    </tr>\n",
       "    <tr>\n",
       "      <th>1</th>\n",
       "      <td>0.0</td>\n",
       "      <td>0.472222</td>\n",
       "      <td>0.385075</td>\n",
       "      <td>0.217564</td>\n",
       "      <td>0.0</td>\n",
       "      <td>0.0</td>\n",
       "      <td>1.0</td>\n",
       "      <td>1.0</td>\n",
       "      <td>0.0</td>\n",
       "      <td>1.0</td>\n",
       "      <td>...</td>\n",
       "      <td>0.0</td>\n",
       "      <td>0.0</td>\n",
       "      <td>1.0</td>\n",
       "      <td>0.0</td>\n",
       "      <td>1.0</td>\n",
       "      <td>0.0</td>\n",
       "      <td>0.0</td>\n",
       "      <td>0.0</td>\n",
       "      <td>0.0</td>\n",
       "      <td>1.0</td>\n",
       "    </tr>\n",
       "    <tr>\n",
       "      <th>2</th>\n",
       "      <td>0.0</td>\n",
       "      <td>0.027778</td>\n",
       "      <td>0.354229</td>\n",
       "      <td>0.012453</td>\n",
       "      <td>1.0</td>\n",
       "      <td>0.0</td>\n",
       "      <td>1.0</td>\n",
       "      <td>1.0</td>\n",
       "      <td>0.0</td>\n",
       "      <td>1.0</td>\n",
       "      <td>...</td>\n",
       "      <td>0.0</td>\n",
       "      <td>1.0</td>\n",
       "      <td>0.0</td>\n",
       "      <td>0.0</td>\n",
       "      <td>0.0</td>\n",
       "      <td>1.0</td>\n",
       "      <td>0.0</td>\n",
       "      <td>0.0</td>\n",
       "      <td>0.0</td>\n",
       "      <td>1.0</td>\n",
       "    </tr>\n",
       "    <tr>\n",
       "      <th>3</th>\n",
       "      <td>0.0</td>\n",
       "      <td>0.625000</td>\n",
       "      <td>0.239303</td>\n",
       "      <td>0.211951</td>\n",
       "      <td>0.0</td>\n",
       "      <td>0.0</td>\n",
       "      <td>1.0</td>\n",
       "      <td>1.0</td>\n",
       "      <td>0.0</td>\n",
       "      <td>1.0</td>\n",
       "      <td>...</td>\n",
       "      <td>0.0</td>\n",
       "      <td>0.0</td>\n",
       "      <td>1.0</td>\n",
       "      <td>0.0</td>\n",
       "      <td>1.0</td>\n",
       "      <td>0.0</td>\n",
       "      <td>1.0</td>\n",
       "      <td>0.0</td>\n",
       "      <td>0.0</td>\n",
       "      <td>0.0</td>\n",
       "    </tr>\n",
       "    <tr>\n",
       "      <th>4</th>\n",
       "      <td>0.0</td>\n",
       "      <td>0.027778</td>\n",
       "      <td>0.521891</td>\n",
       "      <td>0.017462</td>\n",
       "      <td>1.0</td>\n",
       "      <td>1.0</td>\n",
       "      <td>0.0</td>\n",
       "      <td>1.0</td>\n",
       "      <td>0.0</td>\n",
       "      <td>1.0</td>\n",
       "      <td>...</td>\n",
       "      <td>0.0</td>\n",
       "      <td>1.0</td>\n",
       "      <td>0.0</td>\n",
       "      <td>0.0</td>\n",
       "      <td>0.0</td>\n",
       "      <td>1.0</td>\n",
       "      <td>0.0</td>\n",
       "      <td>0.0</td>\n",
       "      <td>1.0</td>\n",
       "      <td>0.0</td>\n",
       "    </tr>\n",
       "  </tbody>\n",
       "</table>\n",
       "<p>5 rows × 46 columns</p>\n",
       "</div>"
      ],
      "text/plain": [
       "   SeniorCitizen    tenure  MonthlyCharges  TotalCharges  Churn  \\\n",
       "0            0.0  0.013889        0.115423      0.003437    0.0   \n",
       "1            0.0  0.472222        0.385075      0.217564    0.0   \n",
       "2            0.0  0.027778        0.354229      0.012453    1.0   \n",
       "3            0.0  0.625000        0.239303      0.211951    0.0   \n",
       "4            0.0  0.027778        0.521891      0.017462    1.0   \n",
       "\n",
       "   gender_Female  gender_Male  Partner_No  Partner_Yes  Dependents_No  ...  \\\n",
       "0            1.0          0.0         0.0          1.0            1.0  ...   \n",
       "1            0.0          1.0         1.0          0.0            1.0  ...   \n",
       "2            0.0          1.0         1.0          0.0            1.0  ...   \n",
       "3            0.0          1.0         1.0          0.0            1.0  ...   \n",
       "4            1.0          0.0         1.0          0.0            1.0  ...   \n",
       "\n",
       "   StreamingMovies_Yes  Contract_Month-to-month  Contract_One year  \\\n",
       "0                  0.0                      1.0                0.0   \n",
       "1                  0.0                      0.0                1.0   \n",
       "2                  0.0                      1.0                0.0   \n",
       "3                  0.0                      0.0                1.0   \n",
       "4                  0.0                      1.0                0.0   \n",
       "\n",
       "   Contract_Two year  PaperlessBilling_No  PaperlessBilling_Yes  \\\n",
       "0                0.0                  0.0                   1.0   \n",
       "1                0.0                  1.0                   0.0   \n",
       "2                0.0                  0.0                   1.0   \n",
       "3                0.0                  1.0                   0.0   \n",
       "4                0.0                  0.0                   1.0   \n",
       "\n",
       "   PaymentMethod_Bank transfer (automatic)  \\\n",
       "0                                      0.0   \n",
       "1                                      0.0   \n",
       "2                                      0.0   \n",
       "3                                      1.0   \n",
       "4                                      0.0   \n",
       "\n",
       "   PaymentMethod_Credit card (automatic)  PaymentMethod_Electronic check  \\\n",
       "0                                    0.0                             1.0   \n",
       "1                                    0.0                             0.0   \n",
       "2                                    0.0                             0.0   \n",
       "3                                    0.0                             0.0   \n",
       "4                                    0.0                             1.0   \n",
       "\n",
       "   PaymentMethod_Mailed check  \n",
       "0                         0.0  \n",
       "1                         1.0  \n",
       "2                         1.0  \n",
       "3                         0.0  \n",
       "4                         0.0  \n",
       "\n",
       "[5 rows x 46 columns]"
      ]
     },
     "execution_count": 49,
     "metadata": {},
     "output_type": "execute_result"
    }
   ],
   "source": [
    "#categorical variables are now scaled but also need to scale the numerical variables, e.g. total changes, monthly charges\n",
    "#instantiate the MinMaxScaler\n",
    "scaler = MinMaxScaler()\n",
    "\n",
    "#save columns for reassigning later\n",
    "telco_dummy_columns = telco_dummy.columns\n",
    "\n",
    "#fit the scaler to the dataframe to transform the data. Converting to dataframe as well - otherwise it would be a NumPy array\n",
    "telco_dummy = pd.DataFrame(scaler.fit_transform(telco_dummy))\n",
    "\n",
    "#reassign the column names\n",
    "telco_dummy.columns = telco_dummy_columns\n",
    "\n",
    "telco_dummy.head()"
   ]
  },
  {
   "cell_type": "code",
   "execution_count": 50,
   "metadata": {},
   "outputs": [],
   "source": [
    "#splitting the data into training, validation and test sets\n",
    "X_train, y_train, X_valid, y_valid, X_test, y_test = train_valid_test_split(telco_dummy, target = 'Churn', \n",
    "                                                train_size = 0.8, valid_size = 0.1, test_size = 0.1, random_state = 42)"
   ]
  },
  {
   "cell_type": "code",
   "execution_count": 51,
   "metadata": {},
   "outputs": [
    {
     "name": "stdout",
     "output_type": "stream",
     "text": [
      "X_train shape: (5634, 45)\n",
      "X_valid shape: (704, 45)\n",
      "X_test shape: (705, 45)\n",
      "y_train shape: (5634,)\n",
      "Y_valid shape: (704,)\n",
      "y_test shape: (705,)\n"
     ]
    }
   ],
   "source": [
    "#checking shape of training and testing sets - all 7043 records are there\n",
    "print('X_train shape:', X_train.shape)\n",
    "print('X_valid shape:', X_valid.shape)\n",
    "print('X_test shape:', X_test.shape)\n",
    "print('y_train shape:', y_train.shape)\n",
    "print('Y_valid shape:', y_valid.shape)\n",
    "print('y_test shape:', y_test.shape)"
   ]
  },
  {
   "cell_type": "markdown",
   "metadata": {},
   "source": [
    "## Logistic regression"
   ]
  },
  {
   "cell_type": "code",
   "execution_count": 52,
   "metadata": {},
   "outputs": [
    {
     "data": {
      "text/plain": [
       "LogisticRegression(solver='liblinear')"
      ]
     },
     "execution_count": 52,
     "metadata": {},
     "output_type": "execute_result"
    }
   ],
   "source": [
    "#fitting the model. Liblinear is and algorithim which will help optimise the results. Different solvers can be used but\n",
    "#liblinear is good when the dataset is smaller\n",
    "logistic_model = LogisticRegression(solver = 'liblinear')\n",
    "logistic_model.fit(X_train, y_train)"
   ]
  },
  {
   "cell_type": "code",
   "execution_count": 53,
   "metadata": {},
   "outputs": [],
   "source": [
    "#predicting the churn values for X_train and X_valid\n",
    "y_pred_train = logistic_model.predict(X_train)\n",
    "y_pred_valid = logistic_model.predict(X_valid)"
   ]
  },
  {
   "cell_type": "code",
   "execution_count": 54,
   "metadata": {},
   "outputs": [
    {
     "name": "stdout",
     "output_type": "stream",
     "text": [
      "0.0    4513\n",
      "1.0    1121\n",
      "Name: Churn, dtype: int64\n",
      "\n",
      "0.0    0.801029\n",
      "1.0    0.198971\n",
      "Name: Churn, dtype: float64\n"
     ]
    }
   ],
   "source": [
    "#evaluating the model - finding the residual differences between train data and predicted train data\n",
    "residuals = np.abs(y_train - y_pred_train)\n",
    "\n",
    "#print value counts of predicted values\n",
    "print(pd.Series(residuals).value_counts())\n",
    "\n",
    "print('')\n",
    "\n",
    "#print normalised value counts for predicted values - 80% of churn predictions were correct on the train data set\n",
    "print(pd.Series(residuals).value_counts(normalize = True))"
   ]
  },
  {
   "cell_type": "code",
   "execution_count": 55,
   "metadata": {},
   "outputs": [
    {
     "name": "stdout",
     "output_type": "stream",
     "text": [
      "0.0    569\n",
      "1.0    135\n",
      "Name: Churn, dtype: int64\n",
      "\n",
      "0.0    0.808239\n",
      "1.0    0.191761\n",
      "Name: Churn, dtype: float64\n"
     ]
    }
   ],
   "source": [
    "#evaluating the model for the test data - finding the residual differences between test data and predicted test data\n",
    "residuals_test = np.abs(y_valid - y_pred_valid)\n",
    "\n",
    "#print value counts of predicted values\n",
    "print(pd.Series(residuals_test).value_counts())\n",
    "\n",
    "print('')\n",
    "\n",
    "#print normalised value counts for predicted values - 81% of churn predictions were correct on the validation data set\n",
    "print(pd.Series(residuals_test).value_counts(normalize = True))"
   ]
  },
  {
   "cell_type": "code",
   "execution_count": 56,
   "metadata": {},
   "outputs": [],
   "source": [
    "#definitions\n",
    "#precision - how precise the predictions are or TP / (TP + FP). (Out of the times the model said the customer would churn, how\n",
    "#many times did they actually churn)\n",
    "\n",
    "#recall - what percentage of the class we're interested in were captured by the model or TP / (TP + FN). (Out of all the \n",
    "#customers that churned, what percentage did the model predict as 'going to churn')\n",
    "\n",
    "#accuracy - measures what percentage of predictions the model got right or (TP + TN) / (TP + FP + TN + FN). \n",
    "\n",
    "#F1 score - harmonic mean of precision and recall - can't have a high F1 score without a strong model underneath. \n",
    "#F1 = 2(precision * recall) / (precision + recall)\n",
    "#F1 score penalises model heavily if it's skewed towards precison or recall"
   ]
  },
  {
   "cell_type": "code",
   "execution_count": 57,
   "metadata": {},
   "outputs": [
    {
     "name": "stdout",
     "output_type": "stream",
     "text": [
      "Confusion matrix \n",
      " [[461  56]\n",
      " [ 79 108]]\n"
     ]
    }
   ],
   "source": [
    "#printing the confusion matrix - we are trying to limit false negatives (i.e. when we predict a customer will not churn\n",
    "#but they do). When trying to limit false negatives we want to optimise on recall rather than precision\n",
    "\n",
    "#108 = true positive, 461 = true negative, 79 = false negative, 56 = false positive\n",
    "lr_matrix = confusion_matrix(y_valid, y_pred_valid)\n",
    "print('Confusion matrix \\n', lr_matrix)"
   ]
  },
  {
   "cell_type": "code",
   "execution_count": 59,
   "metadata": {},
   "outputs": [
    {
     "data": {
      "text/html": [
       "<div>\n",
       "<style scoped>\n",
       "    .dataframe tbody tr th:only-of-type {\n",
       "        vertical-align: middle;\n",
       "    }\n",
       "\n",
       "    .dataframe tbody tr th {\n",
       "        vertical-align: top;\n",
       "    }\n",
       "\n",
       "    .dataframe thead th {\n",
       "        text-align: right;\n",
       "    }\n",
       "</style>\n",
       "<table border=\"1\" class=\"dataframe\">\n",
       "  <thead>\n",
       "    <tr style=\"text-align: right;\">\n",
       "      <th>Prediction</th>\n",
       "      <th>Actual</th>\n",
       "      <th>0.0</th>\n",
       "      <th>1.0</th>\n",
       "      <th>All</th>\n",
       "    </tr>\n",
       "  </thead>\n",
       "  <tbody>\n",
       "    <tr>\n",
       "      <th>0</th>\n",
       "      <td>0</td>\n",
       "      <td>461</td>\n",
       "      <td>56</td>\n",
       "      <td>517</td>\n",
       "    </tr>\n",
       "    <tr>\n",
       "      <th>1</th>\n",
       "      <td>1</td>\n",
       "      <td>79</td>\n",
       "      <td>108</td>\n",
       "      <td>187</td>\n",
       "    </tr>\n",
       "    <tr>\n",
       "      <th>2</th>\n",
       "      <td>All</td>\n",
       "      <td>540</td>\n",
       "      <td>164</td>\n",
       "      <td>704</td>\n",
       "    </tr>\n",
       "  </tbody>\n",
       "</table>\n",
       "</div>"
      ],
      "text/plain": [
       "Prediction Actual  0.0  1.0  All\n",
       "0               0  461   56  517\n",
       "1               1   79  108  187\n",
       "2             All  540  164  704"
      ]
     },
     "execution_count": 59,
     "metadata": {},
     "output_type": "execute_result"
    }
   ],
   "source": [
    "#visualising the confusion matrix with labels. For some reason the crosstab didn't produce the correct numbers when I \n",
    "#converted both the actual and predicted data to series dataframe. It only worked correctly when the predictions were \n",
    "#converted into an array\n",
    "\n",
    "y_valid_df = pd.Series(y_valid)\n",
    "y_pred_valid_lr = np.array(y_pred_valid)\n",
    "\n",
    "pd.crosstab(y_valid_df, y_pred_valid_lr, margins = True, rownames = ['Actual'], colnames = ['Prediction']).reset_index()"
   ]
  },
  {
   "cell_type": "code",
   "execution_count": 65,
   "metadata": {},
   "outputs": [],
   "source": [
    "#concatenating the series into a dataframe and adding a new row to describe what the result is in each. The function uses\n",
    "#if statements to define the result\n",
    "\n",
    "#need to reset index in y_valid_df for the concat to work properly and also convert the predictions into a dataframe\n",
    "y_valid_df = y_valid_df.reset_index(drop = True)\n",
    "y_pred_valid_df = pd.Series(y_pred_valid)\n",
    "\n",
    "results = pd.concat([y_valid_df, y_pred_valid_df], axis = 1).rename(columns = {'Churn': 'actual', 0: 'prediction'})\n",
    "\n",
    "def regression_results(row):\n",
    "    if row['actual'] == 1 and row['prediction'] == 1:\n",
    "        return 'actual = churn and prediction = churn - True positive'\n",
    "    if row['actual'] == 0 and row['prediction'] == 0:\n",
    "        return 'actual = no churn and prediction =  no churn - True negative'\n",
    "    if row['actual'] == 0 and row['prediction'] == 1:\n",
    "        return 'actual = no churn but prediction = churn - False positive'\n",
    "    if row['actual'] == 1 and row['prediction'] == 0:\n",
    "        return 'actual = churn but prediction = no churn - False negative'\n",
    "\n",
    "#applying the above function to a new row    \n",
    "results['result'] = results.apply(lambda row: regression_results(row), axis = 1)"
   ]
  },
  {
   "cell_type": "code",
   "execution_count": 66,
   "metadata": {},
   "outputs": [
    {
     "data": {
      "text/plain": [
       "result\n",
       "actual = churn and prediction = churn - True positive           108\n",
       "actual = churn but prediction = no churn - False negative        79\n",
       "actual = no churn and prediction =  no churn - True negative    461\n",
       "actual = no churn but prediction = churn - False positive        56\n",
       "dtype: int64"
      ]
     },
     "execution_count": 66,
     "metadata": {},
     "output_type": "execute_result"
    }
   ],
   "source": [
    "#grouping the results to compare with the confustion matrix\n",
    "results_grouped = results.groupby('result').size()\n",
    "results_grouped"
   ]
  },
  {
   "cell_type": "code",
   "execution_count": 69,
   "metadata": {},
   "outputs": [
    {
     "name": "stdout",
     "output_type": "stream",
     "text": [
      "              precision    recall  f1-score   support\n",
      "\n",
      "         0.0       0.85      0.89      0.87       517\n",
      "         1.0       0.66      0.58      0.62       187\n",
      "\n",
      "    accuracy                           0.81       704\n",
      "   macro avg       0.76      0.73      0.74       704\n",
      "weighted avg       0.80      0.81      0.80       704\n",
      "\n"
     ]
    }
   ],
   "source": [
    "#printing out the scores for precision, recall, accuracy and F1 for y_test and y_pred_test\n",
    "print(metrics.classification_report(y_valid, y_pred_valid))"
   ]
  },
  {
   "cell_type": "code",
   "execution_count": 70,
   "metadata": {},
   "outputs": [
    {
     "name": "stdout",
     "output_type": "stream",
     "text": [
      "Precision train:  0.65\n",
      "Precision valid:  0.66\n",
      "\n",
      "Recall train:  0.54\n",
      "Recall valid:  0.58\n",
      "\n",
      "Accuracy train:  0.8\n",
      "Accuracy valid:  0.81\n",
      "\n",
      "F1 train:  0.59\n",
      "F1 valid:  0.62\n",
      "\n"
     ]
    }
   ],
   "source": [
    "#another way to print the scores, pos_label tells sklearn what class you want to print - we want 1 as that's the 'will \n",
    "#churn' class\n",
    "\n",
    "precision_train = precision_score(y_train, y_pred_train, pos_label = 1)\n",
    "precision_valid = precision_score(y_valid, y_pred_valid, pos_label = 1)\n",
    "\n",
    "recall_train = recall_score(y_train, y_pred_train, pos_label = 1)\n",
    "recall_valid = recall_score(y_valid, y_pred_valid, pos_label = 1)\n",
    "\n",
    "accuracy_train = accuracy_score(y_train, y_pred_train)\n",
    "accuracy_valid = accuracy_score(y_valid, y_pred_valid)\n",
    "\n",
    "f1_train = f1_score(y_train, y_pred_train, pos_label = 1)\n",
    "f1_valid = f1_score(y_valid, y_pred_valid, pos_label = 1)\n",
    "\n",
    "print('Precision train: ', round(precision_train, 2))\n",
    "print('Precision valid: ', round(precision_valid, 2))\n",
    "print('')\n",
    "print('Recall train: ', round(recall_train, 2))\n",
    "print('Recall valid: ', round(recall_valid, 2))\n",
    "print('')\n",
    "print('Accuracy train: ', round(accuracy_train, 2))\n",
    "print('Accuracy valid: ', round(accuracy_valid, 2))\n",
    "print('')\n",
    "print('F1 train: ', round(f1_train, 2))\n",
    "print('F1 valid: ', round(f1_valid, 2))\n",
    "print('')"
   ]
  },
  {
   "cell_type": "code",
   "execution_count": 71,
   "metadata": {},
   "outputs": [],
   "source": [
    "#calculating probabilities scores for test and train sets\n",
    "prob_train = logistic_model.predict_proba(X_train)\n",
    "prob_valid = logistic_model.predict_proba(X_valid)\n",
    "\n",
    "#keeping probabilities for positive outcome only (the threshold is 0.5 which means, if the predicted probability of the \n",
    "#class for an instance is less than 0.5, that instance is predicted to be in class 0 (the negative class). If the \n",
    "#probability of the class for an instance is equal or greater than 0.5, the instance is classified as class 1.)\n",
    "prob_train_churn = prob_train[:, 1]\n",
    "prob_valid_churn = prob_valid[:, 1]\n",
    "\n",
    "#calculate false positive rate (fpr), true positive rate (tpr) and thresholds for train set\n",
    "train_fpr, train_tpr, train_thresholds = roc_curve(y_train, prob_train_churn)\n",
    "\n",
    "#calculate false positive rate (fpr), true positive rate (tpr) and thresholds for test set\n",
    "valid_fpr, valid_tpr, valid_thresholds = roc_curve(y_valid, prob_valid_churn)"
   ]
  },
  {
   "cell_type": "code",
   "execution_count": 72,
   "metadata": {},
   "outputs": [
    {
     "name": "stdout",
     "output_type": "stream",
     "text": [
      "Training AUC:  0.84\n",
      "Validation AUC:  0.85\n"
     ]
    }
   ],
   "source": [
    "#calculating AUC (Area Under Curve) - this gives a single numeric metric to evaluate the model. An AUC value of 1 would \n",
    "#represent a perfect classifier. If AUC = 0.5 the classifier only has 50% preision. AUC scores above 0.8 so pretty good.\n",
    "\n",
    "auc_train = auc(train_fpr, train_tpr)\n",
    "auc_valid = auc(valid_fpr, valid_tpr)\n",
    "print('Training AUC: ', round(auc_train, 2))\n",
    "print('Validation AUC: ', round(auc_valid, 2))"
   ]
  },
  {
   "cell_type": "code",
   "execution_count": 73,
   "metadata": {},
   "outputs": [
    {
     "data": {
      "image/png": "[encoded data removed]",
      "text/plain": [
       "<Figure size 864x432 with 2 Axes>"
      ]
     },
     "metadata": {
      "needs_background": "light"
     },
     "output_type": "display_data"
    }
   ],
   "source": [
    "#plotting an ROC (Receiver Operator Characteristic) curve to evaluate the model performance visually. It illustrates the\n",
    "#true positive rate against the false positive rate of our classifier. Best performing models will have an ROC curve that \n",
    "#hugs the upper left corner of the graph. This would represent that we correctly classify the positives much more often \n",
    "#than we incorrectly classify them. \n",
    "\n",
    "fig = plt.figure(figsize = (12, 6))\n",
    "ax = plt.subplot(1, 2, 1)\n",
    "plt.plot(train_fpr, train_tpr, label = 'ROC curve', color = 'red')\n",
    "\n",
    "#plotting diagonal line from zero which represents a model that guesses incorrectly for every correct guess\n",
    "plt.plot([0, 1], [0, 1], color = 'black', linestyle = 'dashed')\n",
    "plt.xlim([0, 1])\n",
    "plt.ylim([0, 1.05])\n",
    "\n",
    "plt.legend()\n",
    "plt.xticks(fontsize = 12)\n",
    "plt.yticks(fontsize = 12)\n",
    "plt.xlabel('False positive rate', fontsize = 12)\n",
    "plt.ylabel('True positive rate', fontsize = 12)\n",
    "plt.title('ROC curve for training set', fontsize = 12)\n",
    "\n",
    "ax = plt.subplot(1, 2, 2)\n",
    "plt.plot(valid_fpr, valid_tpr, label = 'ROC curve', color = 'red')\n",
    "\n",
    "#plotting diagonal line from zero which represents a model that guesses incorrectly for every correct guess\n",
    "plt.plot([0, 1], [0, 1], color = 'black', linestyle = 'dashed')\n",
    "plt.xlim([0, 1])\n",
    "plt.ylim([0, 1.05])\n",
    "\n",
    "plt.legend()\n",
    "plt.xticks(fontsize = 12)\n",
    "plt.yticks(fontsize = 12)\n",
    "plt.xlabel('False positive rate', fontsize = 12)\n",
    "plt.ylabel('True positive rate', fontsize = 12)\n",
    "plt.title('ROC curve for validation set', fontsize = 12)\n",
    "plt.savefig('ROC_curves')"
   ]
  },
  {
   "cell_type": "markdown",
   "metadata": {},
   "source": [
    "## Random forest"
   ]
  },
  {
   "cell_type": "code",
   "execution_count": 74,
   "metadata": {},
   "outputs": [
    {
     "name": "stdout",
     "output_type": "stream",
     "text": [
      "1 trees\n",
      "Accuracy:  0.72790202342918\n",
      "\n",
      "2 trees\n",
      "Accuracy:  0.7287894923677671\n",
      "\n",
      "3 trees\n",
      "Accuracy:  0.7312744053958111\n",
      "\n",
      "4 trees\n",
      "Accuracy:  0.7326943556975506\n",
      "\n",
      "5 trees\n",
      "Accuracy:  0.7380191693290735\n",
      "\n",
      "15 trees\n",
      "Accuracy:  0.760915867944622\n",
      "\n",
      "20 trees\n",
      "Accuracy:  0.762158324458644\n",
      "\n",
      "25 trees\n",
      "Accuracy:  0.7692580759673412\n",
      "\n",
      "40 trees\n",
      "Accuracy:  0.776180333688321\n",
      "\n",
      "50 trees\n",
      "Accuracy:  0.7776002839900603\n",
      "\n",
      "70 trees\n",
      "Accuracy:  0.7802626908058218\n",
      "\n",
      "100 trees\n",
      "Accuracy:  0.7777777777777778\n",
      "\n"
     ]
    },
    {
     "data": {
      "text/plain": [
       "<matplotlib.legend.Legend at 0x7f11b6760c88>"
      ]
     },
     "execution_count": 74,
     "metadata": {},
     "output_type": "execute_result"
    },
    {
     "data": {
      "image/png": "[encoded data removed]",
      "text/plain": [
       "<Figure size 432x288 with 1 Axes>"
      ]
     },
     "metadata": {
      "needs_background": "light"
     },
     "output_type": "display_data"
    }
   ],
   "source": [
    "#putting the data through a random forest classifier model to see if that improves the results. Generally, more trees in\n",
    "#the model are better so the below code will test the model with varying number of trees\n",
    "\n",
    "#the oob score is a measure of accuracy\n",
    "\n",
    "oob_results = []\n",
    "n_estimators = [1, 2, 3, 4, 5, 15, 20, 25, 40, 50, 70, 100]\n",
    "\n",
    "for trees in n_estimators:\n",
    "    random_model = RandomForestClassifier(trees, oob_score = True, random_state = 42)\n",
    "    random_model.fit(X_train, y_train)\n",
    "    print(trees, 'trees')\n",
    "    accuracy = random_model.oob_score_\n",
    "    print('Accuracy: ', accuracy)\n",
    "    oob_results.append(accuracy)\n",
    "    print('')\n",
    "\n",
    "#plotting the oob scores on a chart. The highest accuracy is at 70 trees so will use that in the model\n",
    "plt.plot(n_estimators, oob_results, color = 'red', label = 'OOB score')\n",
    "plt.xlabel('Number of trees')\n",
    "plt.ylabel('OOB score')\n",
    "plt.title('OOB score vs number of trees')\n",
    "plt.legend()"
   ]
  },
  {
   "cell_type": "code",
   "execution_count": 75,
   "metadata": {},
   "outputs": [
    {
     "data": {
      "text/plain": [
       "RandomForestClassifier(n_estimators=70, random_state=42)"
      ]
     },
     "execution_count": 75,
     "metadata": {},
     "output_type": "execute_result"
    }
   ],
   "source": [
    "#fitting the model with 70 tress\n",
    "random_model = RandomForestClassifier(n_estimators = 70, random_state = 42)\n",
    "random_model.fit(X_train, y_train)"
   ]
  },
  {
   "cell_type": "code",
   "execution_count": 76,
   "metadata": {},
   "outputs": [],
   "source": [
    "#predicting the churn values for X_train and X_valid\n",
    "y_pred_train = random_model.predict(X_train)\n",
    "y_pred_valid = random_model.predict(X_valid)"
   ]
  },
  {
   "cell_type": "code",
   "execution_count": 77,
   "metadata": {},
   "outputs": [
    {
     "name": "stdout",
     "output_type": "stream",
     "text": [
      "0.0    5624\n",
      "1.0      10\n",
      "Name: Churn, dtype: int64\n",
      "\n",
      "0.0    0.998225\n",
      "1.0    0.001775\n",
      "Name: Churn, dtype: float64\n"
     ]
    }
   ],
   "source": [
    "#evaluating the model - finding the residual differences between train data and predicted train data\n",
    "random_residuals = np.abs(y_train - y_pred_train)\n",
    "\n",
    "#print value counts of predicted values\n",
    "print(pd.Series(random_residuals).value_counts())\n",
    "\n",
    "print('')\n",
    "\n",
    "#print normalised value counts for predicted values - 99% of churn predictions were correct on the train data set\n",
    "print(pd.Series(random_residuals).value_counts(normalize = True))"
   ]
  },
  {
   "cell_type": "code",
   "execution_count": 78,
   "metadata": {},
   "outputs": [
    {
     "name": "stdout",
     "output_type": "stream",
     "text": [
      "0.0    551\n",
      "1.0    153\n",
      "Name: Churn, dtype: int64\n",
      "\n",
      "0.0    0.78267\n",
      "1.0    0.21733\n",
      "Name: Churn, dtype: float64\n"
     ]
    }
   ],
   "source": [
    "#evaluating the model for the test data - finding the residual differences between validation data and predicted validation\n",
    "#data\n",
    "random_residuals_valid = np.abs(y_valid - y_pred_valid)\n",
    "\n",
    "#print value counts of predicted values\n",
    "print(pd.Series(random_residuals_valid).value_counts())\n",
    "\n",
    "print('')\n",
    "\n",
    "#print normalised value counts for predicted values - 78% of churn predictions were correct on the validation data set \n",
    "#compared to 81% with the logistic regression model\n",
    "print(pd.Series(random_residuals_valid).value_counts(normalize = True))"
   ]
  },
  {
   "cell_type": "code",
   "execution_count": 79,
   "metadata": {},
   "outputs": [
    {
     "name": "stdout",
     "output_type": "stream",
     "text": [
      "Confusion matrix \n",
      " [[470  47]\n",
      " [106  81]]\n"
     ]
    }
   ],
   "source": [
    "#printing the confusion matrix \n",
    "\n",
    "#81 = true positive, 470 = true negative, 106 = false negative, 47 = false positive\n",
    "#the random forest model gives more false negatives compared to the logistic regression model which gave 151\n",
    "random_matrix = confusion_matrix(y_valid, y_pred_valid)\n",
    "print('Confusion matrix \\n', random_matrix)"
   ]
  },
  {
   "cell_type": "code",
   "execution_count": 80,
   "metadata": {},
   "outputs": [
    {
     "name": "stdout",
     "output_type": "stream",
     "text": [
      "              precision    recall  f1-score   support\n",
      "\n",
      "         0.0       0.82      0.91      0.86       517\n",
      "         1.0       0.63      0.43      0.51       187\n",
      "\n",
      "    accuracy                           0.78       704\n",
      "   macro avg       0.72      0.67      0.69       704\n",
      "weighted avg       0.77      0.78      0.77       704\n",
      "\n"
     ]
    }
   ],
   "source": [
    "#printing out the scores for precision, recall, accuracy and F1 for y_valid and y_pred_valid - recall (which we are trying to \n",
    "#optimise is only 0.43 when predicting churn compared to 0.58 in the logistic regression model)\n",
    "print(metrics.classification_report(y_valid, y_pred_valid))"
   ]
  },
  {
   "cell_type": "code",
   "execution_count": 84,
   "metadata": {},
   "outputs": [
    {
     "name": "stdout",
     "output_type": "stream",
     "text": [
      "TotalCharges                               0.165749\n",
      "tenure                                     0.140739\n",
      "MonthlyCharges                             0.137544\n",
      "Contract_Month-to-month                    0.043832\n",
      "OnlineSecurity_No                          0.033858\n",
      "PaymentMethod_Electronic check             0.032320\n",
      "InternetService_Fiber optic                0.026948\n",
      "TechSupport_No                             0.024542\n",
      "SeniorCitizen                              0.019403\n",
      "gender_Male                                0.018583\n",
      "Contract_Two year                          0.018358\n",
      "OnlineBackup_No                            0.018308\n",
      "gender_Female                              0.017902\n",
      "PaperlessBilling_No                        0.016041\n",
      "Partner_Yes                                0.015140\n",
      "Partner_No                                 0.015054\n",
      "PaperlessBilling_Yes                       0.014824\n",
      "MultipleLines_No                           0.013329\n",
      "OnlineBackup_Yes                           0.013261\n",
      "DeviceProtection_No                        0.013202\n",
      "MultipleLines_Yes                          0.013014\n",
      "Dependents_No                              0.012836\n",
      "PaymentMethod_Credit card (automatic)      0.012332\n",
      "PaymentMethod_Bank transfer (automatic)    0.012324\n",
      "DeviceProtection_Yes                       0.012277\n",
      "Dependents_Yes                             0.012234\n",
      "OnlineSecurity_Yes                         0.012093\n",
      "StreamingMovies_Yes                        0.011895\n",
      "TechSupport_Yes                            0.011773\n",
      "PaymentMethod_Mailed check                 0.011625\n",
      "InternetService_DSL                        0.011584\n",
      "StreamingMovies_No                         0.011375\n",
      "StreamingTV_Yes                            0.010953\n",
      "StreamingTV_No                             0.010833\n",
      "Contract_One year                          0.009575\n",
      "StreamingMovies_No internet service        0.003403\n",
      "PhoneService_Yes                           0.003357\n",
      "DeviceProtection_No internet service       0.003224\n",
      "TechSupport_No internet service            0.003204\n",
      "MultipleLines_No phone service             0.002891\n",
      "PhoneService_No                            0.002777\n",
      "StreamingTV_No internet service            0.001864\n",
      "OnlineBackup_No internet service           0.001293\n",
      "InternetService_No                         0.001212\n",
      "OnlineSecurity_No internet service         0.001115\n",
      "dtype: float64\n"
     ]
    }
   ],
   "source": [
    "#checking feature importance in the model - total charges and tenure had the most weight\n",
    "feature_importance = pd.Series(random_model.feature_importances_, index = X_train.columns)\n",
    "feature_importance.sort_values(ascending = False, inplace = True)\n",
    "print(feature_importance)"
   ]
  },
  {
   "cell_type": "markdown",
   "metadata": {},
   "source": [
    "## Random forest with hyperparameter tuning"
   ]
  },
  {
   "cell_type": "code",
   "execution_count": 85,
   "metadata": {},
   "outputs": [],
   "source": [
    "#trying randomized grid search to improve random forest results\n",
    "#first define the variables that will be tuned\n",
    "\n",
    "#number of trees\n",
    "n_estimators = [50, 75, 100, 200, 300, 400, 500, 600, 700]\n",
    "\n",
    "#max number of features to consider at each split\n",
    "max_features = ['auto', 'sqrt']\n",
    "\n",
    "#max number of levels in the tree\n",
    "max_depth = [10, 20, 30, 40, 50, 60, 70, 80, 90, 100]\n",
    "max_depth.append(None)\n",
    "\n",
    "#minimum number of samples required to split a node\n",
    "min_samples_split = [2, 5, 10, 15, 20]\n",
    "\n",
    "#minimum number of samples required at each leaf node\n",
    "min_samples_leaf = [1, 2, 5, 10, 15]\n",
    "\n",
    "#method of selecting samples for training each tree\n",
    "bootstrap = [True, False]"
   ]
  },
  {
   "cell_type": "code",
   "execution_count": 87,
   "metadata": {},
   "outputs": [],
   "source": [
    "#will use RandomizedSearchCV to evaluate each model. First need to set up a dictionary of the hyperparameter values\n",
    "grid_params = {'n_estimators': n_estimators,\n",
    "              'max_features': max_features,\n",
    "              'max_depth': max_depth,\n",
    "              'min_samples_split': min_samples_split,\n",
    "              'min_samples_leaf': min_samples_leaf,\n",
    "              'bootstrap': bootstrap}"
   ]
  },
  {
   "cell_type": "code",
   "execution_count": 88,
   "metadata": {},
   "outputs": [],
   "source": [
    "#adding a start time as the following code will take a while to run\n",
    "start_time = time.time()"
   ]
  },
  {
   "cell_type": "code",
   "execution_count": 89,
   "metadata": {},
   "outputs": [
    {
     "name": "stdout",
     "output_type": "stream",
     "text": [
      "Fitting 5 folds for each of 10 candidates, totalling 50 fits\n",
      "[CV] n_estimators=600, min_samples_split=10, min_samples_leaf=2, max_features=auto, max_depth=60, bootstrap=False \n"
     ]
    },
    {
     "name": "stderr",
     "output_type": "stream",
     "text": [
      "[Parallel(n_jobs=-1)]: Using backend SequentialBackend with 1 concurrent workers.\n"
     ]
    },
    {
     "name": "stdout",
     "output_type": "stream",
     "text": [
      "[CV]  n_estimators=600, min_samples_split=10, min_samples_leaf=2, max_features=auto, max_depth=60, bootstrap=False, total=   4.8s\n",
      "[CV] n_estimators=600, min_samples_split=10, min_samples_leaf=2, max_features=auto, max_depth=60, bootstrap=False \n"
     ]
    },
    {
     "name": "stderr",
     "output_type": "stream",
     "text": [
      "[Parallel(n_jobs=-1)]: Done   1 out of   1 | elapsed:    4.8s remaining:    0.0s\n"
     ]
    },
    {
     "name": "stdout",
     "output_type": "stream",
     "text": [
      "[CV]  n_estimators=600, min_samples_split=10, min_samples_leaf=2, max_features=auto, max_depth=60, bootstrap=False, total=   4.8s\n",
      "[CV] n_estimators=600, min_samples_split=10, min_samples_leaf=2, max_features=auto, max_depth=60, bootstrap=False \n",
      "[CV]  n_estimators=600, min_samples_split=10, min_samples_leaf=2, max_features=auto, max_depth=60, bootstrap=False, total=   4.8s\n",
      "[CV] n_estimators=600, min_samples_split=10, min_samples_leaf=2, max_features=auto, max_depth=60, bootstrap=False \n",
      "[CV]  n_estimators=600, min_samples_split=10, min_samples_leaf=2, max_features=auto, max_depth=60, bootstrap=False, total=   4.6s\n",
      "[CV] n_estimators=600, min_samples_split=10, min_samples_leaf=2, max_features=auto, max_depth=60, bootstrap=False \n",
      "[CV]  n_estimators=600, min_samples_split=10, min_samples_leaf=2, max_features=auto, max_depth=60, bootstrap=False, total=   4.7s\n",
      "[CV] n_estimators=400, min_samples_split=2, min_samples_leaf=15, max_features=sqrt, max_depth=20, bootstrap=True \n",
      "[CV]  n_estimators=400, min_samples_split=2, min_samples_leaf=15, max_features=sqrt, max_depth=20, bootstrap=True, total=   2.1s\n",
      "[CV] n_estimators=400, min_samples_split=2, min_samples_leaf=15, max_features=sqrt, max_depth=20, bootstrap=True \n",
      "[CV]  n_estimators=400, min_samples_split=2, min_samples_leaf=15, max_features=sqrt, max_depth=20, bootstrap=True, total=   2.1s\n",
      "[CV] n_estimators=400, min_samples_split=2, min_samples_leaf=15, max_features=sqrt, max_depth=20, bootstrap=True \n",
      "[CV]  n_estimators=400, min_samples_split=2, min_samples_leaf=15, max_features=sqrt, max_depth=20, bootstrap=True, total=   2.1s\n",
      "[CV] n_estimators=400, min_samples_split=2, min_samples_leaf=15, max_features=sqrt, max_depth=20, bootstrap=True \n",
      "[CV]  n_estimators=400, min_samples_split=2, min_samples_leaf=15, max_features=sqrt, max_depth=20, bootstrap=True, total=   2.1s\n",
      "[CV] n_estimators=400, min_samples_split=2, min_samples_leaf=15, max_features=sqrt, max_depth=20, bootstrap=True \n",
      "[CV]  n_estimators=400, min_samples_split=2, min_samples_leaf=15, max_features=sqrt, max_depth=20, bootstrap=True, total=   2.2s\n",
      "[CV] n_estimators=700, min_samples_split=15, min_samples_leaf=15, max_features=sqrt, max_depth=10, bootstrap=False \n",
      "[CV]  n_estimators=700, min_samples_split=15, min_samples_leaf=15, max_features=sqrt, max_depth=10, bootstrap=False, total=   4.3s\n",
      "[CV] n_estimators=700, min_samples_split=15, min_samples_leaf=15, max_features=sqrt, max_depth=10, bootstrap=False \n",
      "[CV]  n_estimators=700, min_samples_split=15, min_samples_leaf=15, max_features=sqrt, max_depth=10, bootstrap=False, total=   4.3s\n",
      "[CV] n_estimators=700, min_samples_split=15, min_samples_leaf=15, max_features=sqrt, max_depth=10, bootstrap=False \n",
      "[CV]  n_estimators=700, min_samples_split=15, min_samples_leaf=15, max_features=sqrt, max_depth=10, bootstrap=False, total=   4.3s\n",
      "[CV] n_estimators=700, min_samples_split=15, min_samples_leaf=15, max_features=sqrt, max_depth=10, bootstrap=False \n",
      "[CV]  n_estimators=700, min_samples_split=15, min_samples_leaf=15, max_features=sqrt, max_depth=10, bootstrap=False, total=   4.3s\n",
      "[CV] n_estimators=700, min_samples_split=15, min_samples_leaf=15, max_features=sqrt, max_depth=10, bootstrap=False \n",
      "[CV]  n_estimators=700, min_samples_split=15, min_samples_leaf=15, max_features=sqrt, max_depth=10, bootstrap=False, total=   4.3s\n",
      "[CV] n_estimators=600, min_samples_split=5, min_samples_leaf=1, max_features=sqrt, max_depth=10, bootstrap=False \n",
      "[CV]  n_estimators=600, min_samples_split=5, min_samples_leaf=1, max_features=sqrt, max_depth=10, bootstrap=False, total=   4.3s\n",
      "[CV] n_estimators=600, min_samples_split=5, min_samples_leaf=1, max_features=sqrt, max_depth=10, bootstrap=False \n",
      "[CV]  n_estimators=600, min_samples_split=5, min_samples_leaf=1, max_features=sqrt, max_depth=10, bootstrap=False, total=   4.1s\n",
      "[CV] n_estimators=600, min_samples_split=5, min_samples_leaf=1, max_features=sqrt, max_depth=10, bootstrap=False \n",
      "[CV]  n_estimators=600, min_samples_split=5, min_samples_leaf=1, max_features=sqrt, max_depth=10, bootstrap=False, total=   4.2s\n",
      "[CV] n_estimators=600, min_samples_split=5, min_samples_leaf=1, max_features=sqrt, max_depth=10, bootstrap=False \n",
      "[CV]  n_estimators=600, min_samples_split=5, min_samples_leaf=1, max_features=sqrt, max_depth=10, bootstrap=False, total=   4.3s\n",
      "[CV] n_estimators=600, min_samples_split=5, min_samples_leaf=1, max_features=sqrt, max_depth=10, bootstrap=False \n",
      "[CV]  n_estimators=600, min_samples_split=5, min_samples_leaf=1, max_features=sqrt, max_depth=10, bootstrap=False, total=   4.4s\n",
      "[CV] n_estimators=75, min_samples_split=10, min_samples_leaf=5, max_features=sqrt, max_depth=20, bootstrap=False \n",
      "[CV]  n_estimators=75, min_samples_split=10, min_samples_leaf=5, max_features=sqrt, max_depth=20, bootstrap=False, total=   0.6s\n",
      "[CV] n_estimators=75, min_samples_split=10, min_samples_leaf=5, max_features=sqrt, max_depth=20, bootstrap=False \n",
      "[CV]  n_estimators=75, min_samples_split=10, min_samples_leaf=5, max_features=sqrt, max_depth=20, bootstrap=False, total=   0.6s\n",
      "[CV] n_estimators=75, min_samples_split=10, min_samples_leaf=5, max_features=sqrt, max_depth=20, bootstrap=False \n",
      "[CV]  n_estimators=75, min_samples_split=10, min_samples_leaf=5, max_features=sqrt, max_depth=20, bootstrap=False, total=   0.6s\n",
      "[CV] n_estimators=75, min_samples_split=10, min_samples_leaf=5, max_features=sqrt, max_depth=20, bootstrap=False \n",
      "[CV]  n_estimators=75, min_samples_split=10, min_samples_leaf=5, max_features=sqrt, max_depth=20, bootstrap=False, total=   0.6s\n",
      "[CV] n_estimators=75, min_samples_split=10, min_samples_leaf=5, max_features=sqrt, max_depth=20, bootstrap=False \n",
      "[CV]  n_estimators=75, min_samples_split=10, min_samples_leaf=5, max_features=sqrt, max_depth=20, bootstrap=False, total=   0.6s\n",
      "[CV] n_estimators=75, min_samples_split=5, min_samples_leaf=15, max_features=sqrt, max_depth=30, bootstrap=False \n",
      "[CV]  n_estimators=75, min_samples_split=5, min_samples_leaf=15, max_features=sqrt, max_depth=30, bootstrap=False, total=   0.5s\n",
      "[CV] n_estimators=75, min_samples_split=5, min_samples_leaf=15, max_features=sqrt, max_depth=30, bootstrap=False \n",
      "[CV]  n_estimators=75, min_samples_split=5, min_samples_leaf=15, max_features=sqrt, max_depth=30, bootstrap=False, total=   0.5s\n",
      "[CV] n_estimators=75, min_samples_split=5, min_samples_leaf=15, max_features=sqrt, max_depth=30, bootstrap=False \n",
      "[CV]  n_estimators=75, min_samples_split=5, min_samples_leaf=15, max_features=sqrt, max_depth=30, bootstrap=False, total=   0.5s\n",
      "[CV] n_estimators=75, min_samples_split=5, min_samples_leaf=15, max_features=sqrt, max_depth=30, bootstrap=False \n",
      "[CV]  n_estimators=75, min_samples_split=5, min_samples_leaf=15, max_features=sqrt, max_depth=30, bootstrap=False, total=   0.5s\n",
      "[CV] n_estimators=75, min_samples_split=5, min_samples_leaf=15, max_features=sqrt, max_depth=30, bootstrap=False \n",
      "[CV]  n_estimators=75, min_samples_split=5, min_samples_leaf=15, max_features=sqrt, max_depth=30, bootstrap=False, total=   0.5s\n",
      "[CV] n_estimators=600, min_samples_split=5, min_samples_leaf=1, max_features=auto, max_depth=20, bootstrap=True \n",
      "[CV]  n_estimators=600, min_samples_split=5, min_samples_leaf=1, max_features=auto, max_depth=20, bootstrap=True, total=   4.2s\n",
      "[CV] n_estimators=600, min_samples_split=5, min_samples_leaf=1, max_features=auto, max_depth=20, bootstrap=True \n",
      "[CV]  n_estimators=600, min_samples_split=5, min_samples_leaf=1, max_features=auto, max_depth=20, bootstrap=True, total=   4.1s\n",
      "[CV] n_estimators=600, min_samples_split=5, min_samples_leaf=1, max_features=auto, max_depth=20, bootstrap=True \n",
      "[CV]  n_estimators=600, min_samples_split=5, min_samples_leaf=1, max_features=auto, max_depth=20, bootstrap=True, total=   4.2s\n",
      "[CV] n_estimators=600, min_samples_split=5, min_samples_leaf=1, max_features=auto, max_depth=20, bootstrap=True \n",
      "[CV]  n_estimators=600, min_samples_split=5, min_samples_leaf=1, max_features=auto, max_depth=20, bootstrap=True, total=   4.2s\n",
      "[CV] n_estimators=600, min_samples_split=5, min_samples_leaf=1, max_features=auto, max_depth=20, bootstrap=True \n",
      "[CV]  n_estimators=600, min_samples_split=5, min_samples_leaf=1, max_features=auto, max_depth=20, bootstrap=True, total=   4.5s\n",
      "[CV] n_estimators=600, min_samples_split=5, min_samples_leaf=10, max_features=sqrt, max_depth=100, bootstrap=True \n",
      "[CV]  n_estimators=600, min_samples_split=5, min_samples_leaf=10, max_features=sqrt, max_depth=100, bootstrap=True, total=   3.4s\n",
      "[CV] n_estimators=600, min_samples_split=5, min_samples_leaf=10, max_features=sqrt, max_depth=100, bootstrap=True \n",
      "[CV]  n_estimators=600, min_samples_split=5, min_samples_leaf=10, max_features=sqrt, max_depth=100, bootstrap=True, total=   3.5s\n",
      "[CV] n_estimators=600, min_samples_split=5, min_samples_leaf=10, max_features=sqrt, max_depth=100, bootstrap=True \n",
      "[CV]  n_estimators=600, min_samples_split=5, min_samples_leaf=10, max_features=sqrt, max_depth=100, bootstrap=True, total=   3.3s\n",
      "[CV] n_estimators=600, min_samples_split=5, min_samples_leaf=10, max_features=sqrt, max_depth=100, bootstrap=True \n",
      "[CV]  n_estimators=600, min_samples_split=5, min_samples_leaf=10, max_features=sqrt, max_depth=100, bootstrap=True, total=   3.4s\n",
      "[CV] n_estimators=600, min_samples_split=5, min_samples_leaf=10, max_features=sqrt, max_depth=100, bootstrap=True \n",
      "[CV]  n_estimators=600, min_samples_split=5, min_samples_leaf=10, max_features=sqrt, max_depth=100, bootstrap=True, total=   3.3s\n",
      "[CV] n_estimators=600, min_samples_split=20, min_samples_leaf=10, max_features=auto, max_depth=20, bootstrap=False \n",
      "[CV]  n_estimators=600, min_samples_split=20, min_samples_leaf=10, max_features=auto, max_depth=20, bootstrap=False, total=   4.1s\n",
      "[CV] n_estimators=600, min_samples_split=20, min_samples_leaf=10, max_features=auto, max_depth=20, bootstrap=False \n",
      "[CV]  n_estimators=600, min_samples_split=20, min_samples_leaf=10, max_features=auto, max_depth=20, bootstrap=False, total=   4.1s\n",
      "[CV] n_estimators=600, min_samples_split=20, min_samples_leaf=10, max_features=auto, max_depth=20, bootstrap=False \n",
      "[CV]  n_estimators=600, min_samples_split=20, min_samples_leaf=10, max_features=auto, max_depth=20, bootstrap=False, total=   4.0s\n",
      "[CV] n_estimators=600, min_samples_split=20, min_samples_leaf=10, max_features=auto, max_depth=20, bootstrap=False \n",
      "[CV]  n_estimators=600, min_samples_split=20, min_samples_leaf=10, max_features=auto, max_depth=20, bootstrap=False, total=   4.0s\n",
      "[CV] n_estimators=600, min_samples_split=20, min_samples_leaf=10, max_features=auto, max_depth=20, bootstrap=False \n",
      "[CV]  n_estimators=600, min_samples_split=20, min_samples_leaf=10, max_features=auto, max_depth=20, bootstrap=False, total=   4.0s\n",
      "[CV] n_estimators=500, min_samples_split=20, min_samples_leaf=15, max_features=auto, max_depth=80, bootstrap=False \n",
      "[CV]  n_estimators=500, min_samples_split=20, min_samples_leaf=15, max_features=auto, max_depth=80, bootstrap=False, total=   3.2s\n",
      "[CV] n_estimators=500, min_samples_split=20, min_samples_leaf=15, max_features=auto, max_depth=80, bootstrap=False \n",
      "[CV]  n_estimators=500, min_samples_split=20, min_samples_leaf=15, max_features=auto, max_depth=80, bootstrap=False, total=   3.1s\n",
      "[CV] n_estimators=500, min_samples_split=20, min_samples_leaf=15, max_features=auto, max_depth=80, bootstrap=False \n",
      "[CV]  n_estimators=500, min_samples_split=20, min_samples_leaf=15, max_features=auto, max_depth=80, bootstrap=False, total=   3.1s\n",
      "[CV] n_estimators=500, min_samples_split=20, min_samples_leaf=15, max_features=auto, max_depth=80, bootstrap=False \n",
      "[CV]  n_estimators=500, min_samples_split=20, min_samples_leaf=15, max_features=auto, max_depth=80, bootstrap=False, total=   3.2s\n",
      "[CV] n_estimators=500, min_samples_split=20, min_samples_leaf=15, max_features=auto, max_depth=80, bootstrap=False \n",
      "[CV]  n_estimators=500, min_samples_split=20, min_samples_leaf=15, max_features=auto, max_depth=80, bootstrap=False, total=   3.2s\n"
     ]
    },
    {
     "name": "stderr",
     "output_type": "stream",
     "text": [
      "[Parallel(n_jobs=-1)]: Done  50 out of  50 | elapsed:  2.6min finished\n"
     ]
    },
    {
     "data": {
      "text/plain": [
       "RandomizedSearchCV(cv=5, estimator=RandomForestClassifier(random_state=1),\n",
       "                   n_jobs=-1,\n",
       "                   param_distributions={'bootstrap': [True, False],\n",
       "                                        'max_depth': [10, 20, 30, 40, 50, 60,\n",
       "                                                      70, 80, 90, 100, None],\n",
       "                                        'max_features': ['auto', 'sqrt'],\n",
       "                                        'min_samples_leaf': [1, 2, 5, 10, 15],\n",
       "                                        'min_samples_split': [2, 5, 10, 15, 20],\n",
       "                                        'n_estimators': [50, 75, 100, 200, 300,\n",
       "                                                         400, 500, 600, 700]},\n",
       "                   random_state=42, verbose=2)"
      ]
     },
     "execution_count": 89,
     "metadata": {},
     "output_type": "execute_result"
    }
   ],
   "source": [
    "#RandomizedSearchCV will take the model object, the defined hyperparameters, the number of random models to evaluate and the number of folds for \n",
    "#cross validation. On each iteration the algorithm will choose a different combination of features\n",
    "\n",
    "#This code took around 2.5 minutes to run\n",
    "\n",
    "tuned_rf = RandomForestClassifier(random_state = 1)\n",
    "tuned_model = RandomizedSearchCV(estimator = tuned_rf, param_distributions = grid_params, n_iter = 10, cv = 5, \n",
    "                                verbose = 2, random_state = 42, n_jobs = -1)\n",
    "#fit the model\n",
    "tuned_model.fit(X_train, y_train)"
   ]
  },
  {
   "cell_type": "code",
   "execution_count": 90,
   "metadata": {},
   "outputs": [
    {
     "name": "stdout",
     "output_type": "stream",
     "text": [
      "157.36 seconds \n"
     ]
    }
   ],
   "source": [
    "#calcualting the end time\n",
    "print('%s seconds ' % round((time.time() - start_time), 2))"
   ]
  },
  {
   "cell_type": "code",
   "execution_count": 91,
   "metadata": {},
   "outputs": [
    {
     "data": {
      "text/plain": [
       "{'n_estimators': 75,\n",
       " 'min_samples_split': 5,\n",
       " 'min_samples_leaf': 15,\n",
       " 'max_features': 'sqrt',\n",
       " 'max_depth': 30,\n",
       " 'bootstrap': False}"
      ]
     },
     "execution_count": 91,
     "metadata": {},
     "output_type": "execute_result"
    }
   ],
   "source": [
    "#check what the best parameters are\n",
    "tuned_model.best_params_"
   ]
  },
  {
   "cell_type": "code",
   "execution_count": 92,
   "metadata": {},
   "outputs": [],
   "source": [
    "#define the model and fit data to the best model\n",
    "best_rf = RandomForestClassifier(n_estimators = 75, min_samples_split = 5, min_samples_leaf = 15, max_features = 'sqrt', \n",
    "                                 max_depth = 30, bootstrap = False, random_state = 42)\n",
    "\n",
    "#fit the model\n",
    "best_model = best_rf.fit(X_train, y_train)\n",
    "\n",
    "#predictions\n",
    "best_preds = best_model.predict(X_valid)"
   ]
  },
  {
   "cell_type": "code",
   "execution_count": 93,
   "metadata": {},
   "outputs": [
    {
     "name": "stdout",
     "output_type": "stream",
     "text": [
      "Confusion matrix \n",
      " [[473  44]\n",
      " [ 92  95]]\n"
     ]
    }
   ],
   "source": [
    "#printing the confusion matrix - the best model only reduced false positives by 2\n",
    "\n",
    "#true negative = 473, true positive = 95, false negative = 92, false positive = 44\n",
    "best_rf_matrix = confusion_matrix(y_valid, best_preds)\n",
    "print('Confusion matrix \\n', best_rf_matrix)"
   ]
  },
  {
   "cell_type": "code",
   "execution_count": 94,
   "metadata": {},
   "outputs": [
    {
     "name": "stdout",
     "output_type": "stream",
     "text": [
      "              precision    recall  f1-score   support\n",
      "\n",
      "         0.0       0.84      0.91      0.87       517\n",
      "         1.0       0.68      0.51      0.58       187\n",
      "\n",
      "    accuracy                           0.81       704\n",
      "   macro avg       0.76      0.71      0.73       704\n",
      "weighted avg       0.80      0.81      0.80       704\n",
      "\n"
     ]
    }
   ],
   "source": [
    "#printing the scores for precision, recall, accuracy and F1 for y_valid and best_preds\n",
    "#score for recall is slightly improved\n",
    "print(metrics.classification_report(y_valid, best_preds))"
   ]
  },
  {
   "cell_type": "code",
   "execution_count": 95,
   "metadata": {},
   "outputs": [],
   "source": [
    "#calculating probability scores to feed into ROC curve\n",
    "prob_best_valid = best_model.predict_proba(X_valid)\n",
    "\n",
    "#keeping probabilities for positive outcome only (i.e. probability greater than 0.5 or class = 1)\n",
    "prob_best_valid_pos = prob_best_valid[:, 1]\n",
    "\n",
    "#calculate false positive rate (fpr), true positive rate (tpr) and thresholds\n",
    "best_valid_fpr, best_valid_tpr, best_valid_thresholds = roc_curve(y_valid, prob_best_valid_pos)"
   ]
  },
  {
   "cell_type": "code",
   "execution_count": 96,
   "metadata": {},
   "outputs": [
    {
     "name": "stdout",
     "output_type": "stream",
     "text": [
      "AUC with best random forest:  0.85668\n"
     ]
    }
   ],
   "source": [
    "#calculating the AUC\n",
    "\n",
    "best_rf_auc = auc(best_valid_fpr, best_valid_tpr)\n",
    "print('AUC with best random forest: ', round(best_rf_auc, 5))"
   ]
  },
  {
   "cell_type": "code",
   "execution_count": 98,
   "metadata": {},
   "outputs": [
    {
     "data": {
      "text/plain": [
       "Text(0, 0.5, 'True positive rate')"
      ]
     },
     "execution_count": 98,
     "metadata": {},
     "output_type": "execute_result"
    },
    {
     "data": {
      "image/png": "[encoded data removed]",
      "text/plain": [
       "<Figure size 576x432 with 1 Axes>"
      ]
     },
     "metadata": {
      "needs_background": "light"
     },
     "output_type": "display_data"
    }
   ],
   "source": [
    "#plotting an ROC curve\n",
    "\n",
    "fig = plt.figure(figsize = (8, 6))\n",
    "ax = plt.subplot()\n",
    "plt.plot(best_valid_fpr, best_valid_tpr, label = 'ROC curve', color = 'red')\n",
    "\n",
    "#plotting the diagonal line from zero which represents a model that guesses incorrectly for every correct guess\n",
    "plt.plot([0, 1], [0, 1], color = 'black', linestyle = 'dashed')\n",
    "\n",
    "ax.spines['top'].set_visible(False)\n",
    "ax.spines['right'].set_visible(False)\n",
    "plt.legend(loc = 'lower right')\n",
    "plt.xlabel('False positive rate')\n",
    "plt.ylabel('True positive rate')"
   ]
  },
  {
   "cell_type": "code",
   "execution_count": 99,
   "metadata": {},
   "outputs": [
    {
     "name": "stdout",
     "output_type": "stream",
     "text": [
      "tenure                                     0.151661\n",
      "Contract_Month-to-month                    0.123413\n",
      "TotalCharges                               0.110173\n",
      "OnlineSecurity_No                          0.085095\n",
      "InternetService_Fiber optic                0.069116\n",
      "MonthlyCharges                             0.058795\n",
      "PaymentMethod_Electronic check             0.055114\n",
      "TechSupport_No                             0.052714\n",
      "Contract_Two year                          0.043471\n",
      "OnlineBackup_No                            0.021347\n",
      "InternetService_DSL                        0.018202\n",
      "Contract_One year                          0.017736\n",
      "TechSupport_Yes                            0.015492\n",
      "OnlineSecurity_Yes                         0.015287\n",
      "PaperlessBilling_No                        0.011552\n",
      "PaperlessBilling_Yes                       0.010122\n",
      "DeviceProtection_No                        0.009528\n",
      "StreamingMovies_No internet service        0.009058\n",
      "TechSupport_No internet service            0.007334\n",
      "StreamingMovies_Yes                        0.007003\n",
      "MultipleLines_No                           0.006787\n",
      "InternetService_No                         0.006680\n",
      "MultipleLines_Yes                          0.006272\n",
      "OnlineBackup_Yes                           0.006066\n",
      "StreamingMovies_No                         0.005765\n",
      "DeviceProtection_No internet service       0.005738\n",
      "OnlineBackup_No internet service           0.005576\n",
      "StreamingTV_No internet service            0.004874\n",
      "SeniorCitizen                              0.004676\n",
      "StreamingTV_Yes                            0.004654\n",
      "Dependents_No                              0.004422\n",
      "gender_Male                                0.004354\n",
      "gender_Female                              0.004220\n",
      "Partner_No                                 0.003998\n",
      "DeviceProtection_Yes                       0.003949\n",
      "StreamingTV_No                             0.003929\n",
      "PaymentMethod_Credit card (automatic)      0.003908\n",
      "Dependents_Yes                             0.003696\n",
      "Partner_Yes                                0.003550\n",
      "PaymentMethod_Bank transfer (automatic)    0.003301\n",
      "OnlineSecurity_No internet service         0.002804\n",
      "PaymentMethod_Mailed check                 0.002518\n",
      "PhoneService_Yes                           0.002055\n",
      "MultipleLines_No phone service             0.002008\n",
      "PhoneService_No                            0.001988\n",
      "dtype: float64\n"
     ]
    }
   ],
   "source": [
    "#checking feature importance in the best model\n",
    "feature_importance_best = pd.Series(best_model.feature_importances_, index = X_train.columns)\n",
    "feature_importance_best.sort_values(ascending = False, inplace = True)\n",
    "print(feature_importance_best)"
   ]
  },
  {
   "cell_type": "code",
   "execution_count": 100,
   "metadata": {},
   "outputs": [
    {
     "data": {
      "image/png": "[encoded data removed]",
      "text/plain": [
       "<Figure size 864x432 with 2 Axes>"
      ]
     },
     "metadata": {
      "needs_background": "light"
     },
     "output_type": "display_data"
    }
   ],
   "source": [
    "#plotting feature importance for both random forest models - only including top 10 features\n",
    "plt.figure(figsize = (12, 6))\n",
    "\n",
    "ax = plt.subplot(1, 2, 1)\n",
    "feature_importance.nlargest(10).plot(kind = 'barh', color = 'red').invert_yaxis()\n",
    "ax.spines['top'].set_visible(False)\n",
    "ax.spines['right'].set_visible(False)\n",
    "plt.xlabel('Relative importance')\n",
    "plt.title('Feature importance in default \\n Random Forest model')\n",
    "\n",
    "ax = plt.subplot(1, 2, 2)\n",
    "feature_importance_best.nlargest(10).plot(kind = 'barh', color = 'red').invert_yaxis()\n",
    "ax.spines['top'].set_visible(False)\n",
    "ax.spines['right'].set_visible(False)\n",
    "plt.xlabel('Relative importance')\n",
    "plt.title('Feature importance in best \\n Random Forest model')\n",
    "\n",
    "plt.subplots_adjust(wspace = 0.6)"
   ]
  },
  {
   "cell_type": "markdown",
   "metadata": {},
   "source": [
    "## Comparing results"
   ]
  },
  {
   "cell_type": "code",
   "execution_count": 132,
   "metadata": {},
   "outputs": [
    {
     "ename": "SyntaxError",
     "evalue": "invalid syntax (<ipython-input-132-49daeec86e3b>, line 8)",
     "output_type": "error",
     "traceback": [
      "\u001b[0;36m  File \u001b[0;32m\"<ipython-input-132-49daeec86e3b>\"\u001b[0;36m, line \u001b[0;32m8\u001b[0m\n\u001b[0;31m    labels_1 = [f'{a} \\n {b} \\n {c}' for a, b, c, in zip(titles_1, counts_1, percentages_1) fontsize = 12]\u001b[0m\n\u001b[0m                                                                                                   ^\u001b[0m\n\u001b[0;31mSyntaxError\u001b[0m\u001b[0;31m:\u001b[0m invalid syntax\n"
     ]
    }
   ],
   "source": [
    "#will draw out the confusion matrices - first get the data labels for all three models\n",
    "\n",
    "#logistic regression\n",
    "titles_1 = ['True negative', 'False positive', 'False negative', 'True positive']\n",
    "counts_1 = ['{:,}'.format(value) for value in lr_matrix.flatten()] #flatten puts the array values into one row\n",
    "percentages_1 = ['{0:.2%}'.format(value) for value in lr_matrix.flatten() / np.sum(lr_matrix)]\n",
    "#the below attaches the above information together - \\n means new line\n",
    "labels_1 = [f'{a} \\n {b} \\n {c}' for a, b, c, in zip(titles_1, counts_1, percentages_1)]\n",
    "#converting the above into an array\n",
    "labels_1 = np.asarray(labels_1).reshape(2, 2)\n",
    "\n",
    "#first random forest\n",
    "titles_2 = ['True negative', 'False positive', 'False negative', 'True positive']\n",
    "counts_2 = ['{:,}'.format(value) for value in random_matrix.flatten()]\n",
    "percentages_2 = ['{0:.2%}'.format(value) for value in random_matrix.flatten() / np.sum(random_matrix)]\n",
    "labels_2 = [f'{a} \\n {b} \\n {c}' for a, b, c, in zip(titles_2, counts_2, percentages_2)]\n",
    "labels_2 = np.asarray(labels_2).reshape(2, 2)\n",
    "\n",
    "#default logistic regression\n",
    "titles_3 = ['True negative', 'False positive', 'False negative', 'True positive']\n",
    "counts_3 = ['{:,}'.format(value) for value in best_rf_matrix.flatten()]\n",
    "percentages_3 = ['{0:.2%}'.format(value) for value in best_rf_matrix.flatten() / np.sum(best_rf_matrix)]\n",
    "labels_3 = [f'{a} \\n {b} \\n {c}' for a, b, c, in zip(titles_3, counts_3, percentages_3)]\n",
    "labels_3 = np.asarray(labels_3).reshape(2, 2)"
   ]
  },
  {
   "cell_type": "code",
   "execution_count": 122,
   "metadata": {},
   "outputs": [],
   "source": [
    "#stats to display below each matrix\n",
    "\n",
    "#logistic regression\n",
    "#np.trace() sums the diagonals of the matrix from left to right\n",
    "accuracy_1 = np.trace(lr_matrix) / np.sum(lr_matrix)\n",
    "#[1, 1] is the bottom right corner - true positives, [:, 1] is the right column - all positives\n",
    "precision_1 = lr_matrix[1, 1] / sum(lr_matrix[:, 1])\n",
    "#[1, :] is the bottom row - false negatives plus true positives\n",
    "recall_1 = lr_matrix[1, 1] / sum(lr_matrix [1, :])\n",
    "f1_score_1 = 2 * precision_1 * recall_1 / (precision_1 + recall_1)\n",
    "text_1 = '\\n Accuracy = {:0.3f} \\n Precision = {:0.3f} \\n Recall = {:0.3f} \\n F1 score = {:0.3f}'.format(accuracy_1, precision_1, recall_1, f1_score_1)\n",
    "\n",
    "#first random forest\n",
    "accuracy_2 = np.trace(random_matrix) / np.sum(random_matrix)\n",
    "precision_2 = random_matrix[1, 1] / sum(random_matrix[:, 1])\n",
    "recall_2 = random_matrix[1, 1] / sum(random_matrix [1, :])\n",
    "f1_score_2 = 2 * precision_2 * recall_2 / (precision_2 + recall_2)\n",
    "text_2 = '\\n Accuracy = {:0.3f} \\n Precision = {:0.3f} \\n Recall = {:0.3f} \\n F1 score = {:0.3f}'.format(accuracy_2, precision_2, recall_2, f1_score_2)\n",
    "\n",
    "#default logistic regression\n",
    "accuracy_3 = np.trace(best_rf_matrix) / np.sum(best_rf_matrix)\n",
    "precision_3 = best_rf_matrix[1, 1] / sum(best_rf_matrix[:, 1])\n",
    "recall_3 = best_rf_matrix[1, 1] / sum(best_rf_matrix [1, :])\n",
    "f1_score_3 = 2 * precision_3 * recall_3 / (precision_3 + recall_3)\n",
    "text_3 = '\\n Accuracy = {:0.3f} \\n Precision = {:0.3f} \\n Recall = {:0.3f} \\n F1 score = {:0.3f}'.format(accuracy_3, precision_3, recall_3, f1_score_3)"
   ]
  },
  {
   "cell_type": "code",
   "execution_count": 151,
   "metadata": {},
   "outputs": [
    {
     "data": {
      "text/plain": [
       "Text(0.5, 15.0, '\\n Accuracy = 0.807 \\n Precision = 0.683 \\n Recall = 0.508 \\n F1 score = 0.583')"
      ]
     },
     "execution_count": 151,
     "metadata": {},
     "output_type": "execute_result"
    },
    {
     "data": {
      "image/png": "[encoded data removed]",
      "text/plain": [
       "<Figure size 1080x288 with 3 Axes>"
      ]
     },
     "metadata": {
      "needs_background": "light"
     },
     "output_type": "display_data"
    }
   ],
   "source": [
    "#creating the matrices\n",
    "fig = plt.figure(figsize = (15, 4))\n",
    "\n",
    "#logistic regression\n",
    "ax = plt.subplot(1, 3, 1)\n",
    "#fmt allows for string annotations on the heat map - annot only allows for numerical \n",
    "sns.heatmap(lr_matrix, annot = labels_1, annot_kws = {'fontsize': 12}, fmt = '', cmap = 'binary', cbar = False)\n",
    "ax.set_title('Logisitic regression', fontsize = 12)       \n",
    "ax.set_xlabel(text_1, fontsize = 12)   \n",
    "\n",
    "#first random forest\n",
    "ax = plt.subplot(1, 3, 2)\n",
    "sns.heatmap(random_matrix, annot = labels_2, annot_kws = {'fontsize': 12}, fmt = '', cmap = 'binary', cbar = False)\n",
    "ax.set_title('Default random forest', fontsize = 12)       \n",
    "ax.set_xlabel(text_2, fontsize = 12) \n",
    "\n",
    "#best random forest\n",
    "ax = plt.subplot(1, 3, 3)\n",
    "sns.heatmap(best_rf_matrix, annot = labels_3, annot_kws = {'fontsize': 12}, fmt = '', cmap = 'binary', cbar = False)\n",
    "ax.set_title('Best random forest', fontsize = 12)       \n",
    "ax.set_xlabel(text_3, fontsize = 12)"
   ]
  },
  {
   "cell_type": "markdown",
   "metadata": {},
   "source": [
    "## Final model results on test data"
   ]
  },
  {
   "cell_type": "code",
   "execution_count": 140,
   "metadata": {},
   "outputs": [],
   "source": [
    "#the logistic regression performed best at reducing recall - will use this to predict values for the test data\n",
    "test_preds = logistic_model.predict(X_test)"
   ]
  },
  {
   "cell_type": "code",
   "execution_count": 141,
   "metadata": {},
   "outputs": [
    {
     "name": "stdout",
     "output_type": "stream",
     "text": [
      "Confusion matrix \n",
      " [[474  45]\n",
      " [ 72 114]]\n"
     ]
    }
   ],
   "source": [
    "#printing the confusion matrix\n",
    "\n",
    "#true negative = 474, true positive = 114, false negative = 72, false positive = 45\n",
    "test_lr_matrix = confusion_matrix(y_test, test_preds)\n",
    "print('Confusion matrix \\n', test_lr_matrix)"
   ]
  },
  {
   "cell_type": "code",
   "execution_count": 142,
   "metadata": {},
   "outputs": [
    {
     "name": "stdout",
     "output_type": "stream",
     "text": [
      "              precision    recall  f1-score   support\n",
      "\n",
      "         0.0       0.87      0.91      0.89       519\n",
      "         1.0       0.72      0.61      0.66       186\n",
      "\n",
      "    accuracy                           0.83       705\n",
      "   macro avg       0.79      0.76      0.78       705\n",
      "weighted avg       0.83      0.83      0.83       705\n",
      "\n"
     ]
    }
   ],
   "source": [
    "#printing the scores for precision, recall, accuracy and F1 for y_test and test_preds\n",
    "#score for precision is higher for test data at 0.61 - on validation data it was 0.58 \n",
    "print(metrics.classification_report(y_test, test_preds))"
   ]
  },
  {
   "cell_type": "code",
   "execution_count": 143,
   "metadata": {},
   "outputs": [],
   "source": [
    "#calculating probability scores to feed into ROC curve\n",
    "prob_test = logistic_model.predict_proba(X_test)\n",
    "\n",
    "#keeping probabilities for positive outcome only (i.e. probability greater than 0.5 or class = 1)\n",
    "prob_test_pos = prob_test[:, 1]\n",
    "\n",
    "#calculate false positive rate (fpr), true positive rate (tpr) and thresholds\n",
    "test_fpr, test_tpr, test_thresholds = roc_curve(y_test, prob_test_pos)"
   ]
  },
  {
   "cell_type": "code",
   "execution_count": 144,
   "metadata": {},
   "outputs": [
    {
     "name": "stdout",
     "output_type": "stream",
     "text": [
      "AUC with logistic regression on validation data:  0.84954\n",
      "AUC with logistic regression on test data:  0.87377\n"
     ]
    }
   ],
   "source": [
    "#calculating the AUC - very little difference between test and validation data although test score is slightly better\n",
    "\n",
    "test_auc = auc(test_fpr, test_tpr)\n",
    "print('AUC with logistic regression on validation data: ', round(auc_valid, 5))\n",
    "print('AUC with logistic regression on test data: ', round(test_auc, 5))"
   ]
  },
  {
   "cell_type": "code",
   "execution_count": 146,
   "metadata": {},
   "outputs": [
    {
     "data": {
      "image/png": "[encoded data removed]",
      "text/plain": [
       "<Figure size 720x360 with 2 Axes>"
      ]
     },
     "metadata": {
      "needs_background": "light"
     },
     "output_type": "display_data"
    }
   ],
   "source": [
    "#plotting an ROC curve for validation and test data\n",
    "\n",
    "fig = plt.figure(figsize = (10, 5))\n",
    "ax = plt.subplot(1, 2, 1)\n",
    "plt.plot(valid_fpr, valid_tpr, label = 'ROC curve', color = 'red')\n",
    "\n",
    "#plotting the diagonal line from zero which represents a model that guesses incorrectly for every correct guess\n",
    "plt.plot([0, 1], [0, 1], color = 'black', linestyle = 'dashed')\n",
    "\n",
    "ax.spines['top'].set_visible(False)\n",
    "ax.spines['right'].set_visible(False)\n",
    "plt.legend(loc = 'lower right')\n",
    "plt.xlabel('False positive rate')\n",
    "plt.ylabel('True positive rate')\n",
    "plt.title('ROC curve for validation data')\n",
    "\n",
    "ax = plt.subplot(1, 2, 2)\n",
    "plt.plot(test_fpr, test_tpr, label = 'ROC curve', color = 'red')\n",
    "\n",
    "#plotting the diagonal line from zero which represents a model that guesses incorrectly for every correct guess\n",
    "plt.plot([0, 1], [0, 1], color = 'black', linestyle = 'dashed')\n",
    "\n",
    "ax.spines['top'].set_visible(False)\n",
    "ax.spines['right'].set_visible(False)\n",
    "plt.legend(loc = 'lower right')\n",
    "plt.xlabel('False positive rate')\n",
    "plt.ylabel('True positive rate')\n",
    "plt.title('ROC curve for test data')\n",
    "\n",
    "plt.subplots_adjust(wspace = 0.5)\n",
    "plt.savefig('ROC curves')"
   ]
  },
  {
   "cell_type": "code",
   "execution_count": 147,
   "metadata": {},
   "outputs": [],
   "source": [
    "#plotting the confusion matrices - first getting the data\n",
    "\n",
    "#best random forest labels - validation data\n",
    "titles_val = ['True negative', 'False positive', 'False negative', 'True positive']\n",
    "counts_val = ['{:,}'.format(value) for value in lr_matrix.flatten()]\n",
    "percentages_val = ['{0:.2%}'.format(value) for value in lr_matrix.flatten() / np.sum(lr_matrix)]\n",
    "labels_val = [f'{a} \\n {b} \\n {c}' for a, b, c, in zip(titles_val, counts_val, percentages_val)]\n",
    "labels_val = np.asarray(labels_val).reshape(2, 2)\n",
    "\n",
    "#best random forest labels - test data\n",
    "titles_test = ['True negative', 'False positive', 'False negative', 'True positive']\n",
    "counts_test = ['{:,}'.format(value) for value in test_lr_matrix.flatten()]\n",
    "percentages_test = ['{0:.2%}'.format(value) for value in test_lr_matrix.flatten() / np.sum(test_lr_matrix)]\n",
    "labels_test = [f'{a} \\n {b} \\n {c}' for a, b, c, in zip(titles_test, counts_test, percentages_test)]\n",
    "labels_test = np.asarray(labels_test).reshape(2, 2)"
   ]
  },
  {
   "cell_type": "code",
   "execution_count": 148,
   "metadata": {},
   "outputs": [],
   "source": [
    "#stats to display below each matrix\n",
    "\n",
    "#validation data\n",
    "accuracy_1 = np.trace(lr_matrix) / np.sum(lr_matrix)\n",
    "precision_1 = lr_matrix[1, 1] / sum(lr_matrix[:, 1])\n",
    "recall_1 = lr_matrix[1, 1] / sum(lr_matrix [1, :])\n",
    "f1_score_1 = 2 * precision_1 * recall_1 / (precision_1 + recall_1)\n",
    "text_1 = '\\n Accuracy = {:0.3f} \\n Precision = {:0.3f} \\n Recall = {:0.3f} \\n F1 score = {:0.3f}'.format(accuracy_1, precision_1, recall_1, f1_score_1)\n",
    "\n",
    "#test data\n",
    "accuracy_1 = np.trace(test_lr_matrix) / np.sum(test_lr_matrix)\n",
    "precision_1 = test_lr_matrix[1, 1] / sum(test_lr_matrix[:, 1])\n",
    "recall_1 = test_lr_matrix[1, 1] / sum(test_lr_matrix [1, :])\n",
    "f1_score_1 = 2 * precision_1 * recall_1 / (precision_1 + recall_1)\n",
    "text_1 = '\\n Accuracy = {:0.3f} \\n Precision = {:0.3f} \\n Recall = {:0.3f} \\n F1 score = {:0.3f}'.format(accuracy_1, precision_1, recall_1, f1_score_1)"
   ]
  },
  {
   "cell_type": "code",
   "execution_count": 150,
   "metadata": {},
   "outputs": [
    {
     "data": {
      "text/plain": [
       "Text(0.5, 15.0, '\\n Accuracy = 0.834 \\n Precision = 0.717 \\n Recall = 0.613 \\n F1 score = 0.661')"
      ]
     },
     "execution_count": 150,
     "metadata": {},
     "output_type": "execute_result"
    },
    {
     "data": {
      "image/png": "[encoded data removed]",
      "text/plain": [
       "<Figure size 720x288 with 2 Axes>"
      ]
     },
     "metadata": {
      "needs_background": "light"
     },
     "output_type": "display_data"
    }
   ],
   "source": [
    "#creating the matrices\n",
    "fig = plt.figure(figsize = (10, 4))\n",
    "\n",
    "#validation data\n",
    "ax = plt.subplot(1, 2, 1)\n",
    "sns.heatmap(lr_matrix, annot = labels_1, annot_kws = {'fontsize': 12}, fmt = '', cmap = 'binary', cbar = False)\n",
    "ax.set_title('Logisitic regression', fontsize = 12)       \n",
    "ax.set_xlabel(text_1, fontsize = 12)   \n",
    "\n",
    "#test data\n",
    "ax = plt.subplot(1, 2, 2)\n",
    "sns.heatmap(test_lr_matrix, annot = labels_1, annot_kws = {'fontsize': 12}, fmt = '', cmap = 'binary', cbar = False)\n",
    "ax.set_title('Logisitic regression', fontsize = 12)       \n",
    "ax.set_xlabel(text_1, fontsize = 12)   "
   ]
  },
  {
   "cell_type": "code",
   "execution_count": null,
   "metadata": {},
   "outputs": [],
   "source": []
  }
 ],
 "metadata": {
  "kernelspec": {
   "display_name": "Python 3",
   "language": "python",
   "name": "python3"
  },
  "language_info": {
   "codemirror_mode": {
    "name": "ipython",
    "version": 3
   },
   "file_extension": ".py",
   "mimetype": "text/x-python",
   "name": "python",
   "nbconvert_exporter": "python",
   "pygments_lexer": "ipython3",
   "version": "3.6.9"
  }
 },
 "nbformat": 4,
 "nbformat_minor": 4
}
